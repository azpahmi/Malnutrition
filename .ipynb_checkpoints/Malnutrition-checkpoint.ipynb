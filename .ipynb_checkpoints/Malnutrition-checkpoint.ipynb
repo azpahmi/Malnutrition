{
 "cells": [
  {
   "cell_type": "markdown",
   "metadata": {},
   "source": [
    "# Visualisasi Data Malnutrisi Dunia"
   ]
  },
  {
   "cell_type": "markdown",
   "metadata": {},
   "source": [
    "## Pra-proses Data"
   ]
  },
  {
   "cell_type": "code",
   "execution_count": 635,
   "metadata": {
    "colab": {
     "base_uri": "https://localhost:8080/",
     "height": 74,
     "resources": {
      "http://localhost:8080/nbextensions/google.colab/files.js": {
       "data": "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",
       "headers": [
        [
         "content-type",
         "application/javascript"
        ]
       ],
       "ok": true,
       "status": 200,
       "status_text": ""
      }
     }
    },
    "id": "LLu0d9Dg6g--",
    "outputId": "cf57088f-91da-4203-d52e-8f95c14e2705",
    "scrolled": false
   },
   "outputs": [
    {
     "data": {
      "text/html": [
       "        <script type=\"text/javascript\">\n",
       "        window.PlotlyConfig = {MathJaxConfig: 'local'};\n",
       "        if (window.MathJax) {MathJax.Hub.Config({SVG: {font: \"STIX-Web\"}});}\n",
       "        if (typeof require !== 'undefined') {\n",
       "        require.undef(\"plotly\");\n",
       "        requirejs.config({\n",
       "            paths: {\n",
       "                'plotly': ['https://cdn.plot.ly/plotly-latest.min']\n",
       "            }\n",
       "        });\n",
       "        require(['plotly'], function(Plotly) {\n",
       "            window._Plotly = Plotly;\n",
       "        });\n",
       "        }\n",
       "        </script>\n",
       "        "
      ]
     },
     "metadata": {},
     "output_type": "display_data"
    }
   ],
   "source": [
    "#Load libraries\n",
    "#Import Library Python\n",
    "import numpy as np\n",
    "import pandas as pd\n",
    "# Import matplotlib for plot the graph\n",
    "import matplotlib.pyplot as plt\n",
    "import plotly.express as px\n",
    "#Import for plot interactive graph\n",
    "import seaborn as sns\n",
    "import plotly.offline as py \n",
    "py.init_notebook_mode(connected=True)\n",
    "import plotly.graph_objs as go\n",
    "from pylab import rcParams\n",
    "#Label Encoding\n",
    "from sklearn.preprocessing import LabelEncoder\n",
    "\n",
    "#figure size in inches\n",
    "%matplotlib inline\n",
    "\n"
   ]
  },
  {
   "cell_type": "code",
   "execution_count": 636,
   "metadata": {},
   "outputs": [
    {
     "data": {
      "text/html": [
       "<div>\n",
       "<style scoped>\n",
       "    .dataframe tbody tr th:only-of-type {\n",
       "        vertical-align: middle;\n",
       "    }\n",
       "\n",
       "    .dataframe tbody tr th {\n",
       "        vertical-align: top;\n",
       "    }\n",
       "\n",
       "    .dataframe thead th {\n",
       "        text-align: right;\n",
       "    }\n",
       "</style>\n",
       "<table border=\"1\" class=\"dataframe\">\n",
       "  <thead>\n",
       "    <tr style=\"text-align: right;\">\n",
       "      <th></th>\n",
       "      <th>Entity</th>\n",
       "      <th>Code</th>\n",
       "      <th>Year</th>\n",
       "      <th>NumberUN</th>\n",
       "    </tr>\n",
       "  </thead>\n",
       "  <tbody>\n",
       "    <tr>\n",
       "      <th>0</th>\n",
       "      <td>Afghanistan</td>\n",
       "      <td>AFG</td>\n",
       "      <td>2000</td>\n",
       "      <td>9.3</td>\n",
       "    </tr>\n",
       "    <tr>\n",
       "      <th>1</th>\n",
       "      <td>Afghanistan</td>\n",
       "      <td>AFG</td>\n",
       "      <td>2001</td>\n",
       "      <td>9.8</td>\n",
       "    </tr>\n",
       "    <tr>\n",
       "      <th>2</th>\n",
       "      <td>Afghanistan</td>\n",
       "      <td>AFG</td>\n",
       "      <td>2002</td>\n",
       "      <td>9.6</td>\n",
       "    </tr>\n",
       "    <tr>\n",
       "      <th>3</th>\n",
       "      <td>Afghanistan</td>\n",
       "      <td>AFG</td>\n",
       "      <td>2003</td>\n",
       "      <td>9.2</td>\n",
       "    </tr>\n",
       "    <tr>\n",
       "      <th>4</th>\n",
       "      <td>Afghanistan</td>\n",
       "      <td>AFG</td>\n",
       "      <td>2004</td>\n",
       "      <td>8.7</td>\n",
       "    </tr>\n",
       "    <tr>\n",
       "      <th>...</th>\n",
       "      <td>...</td>\n",
       "      <td>...</td>\n",
       "      <td>...</td>\n",
       "      <td>...</td>\n",
       "    </tr>\n",
       "    <tr>\n",
       "      <th>2378</th>\n",
       "      <td>Zimbabwe</td>\n",
       "      <td>ZWE</td>\n",
       "      <td>2013</td>\n",
       "      <td>6.6</td>\n",
       "    </tr>\n",
       "    <tr>\n",
       "      <th>2379</th>\n",
       "      <td>Zimbabwe</td>\n",
       "      <td>ZWE</td>\n",
       "      <td>2014</td>\n",
       "      <td>7.2</td>\n",
       "    </tr>\n",
       "    <tr>\n",
       "      <th>2380</th>\n",
       "      <td>Zimbabwe</td>\n",
       "      <td>ZWE</td>\n",
       "      <td>2015</td>\n",
       "      <td>7.8</td>\n",
       "    </tr>\n",
       "    <tr>\n",
       "      <th>2381</th>\n",
       "      <td>Zimbabwe</td>\n",
       "      <td>ZWE</td>\n",
       "      <td>2016</td>\n",
       "      <td>8.2</td>\n",
       "    </tr>\n",
       "    <tr>\n",
       "      <th>2382</th>\n",
       "      <td>Zimbabwe</td>\n",
       "      <td>ZWE</td>\n",
       "      <td>2017</td>\n",
       "      <td>8.5</td>\n",
       "    </tr>\n",
       "  </tbody>\n",
       "</table>\n",
       "<p>2383 rows × 4 columns</p>\n",
       "</div>"
      ],
      "text/plain": [
       "           Entity Code  Year  NumberUN\n",
       "0     Afghanistan  AFG  2000       9.3\n",
       "1     Afghanistan  AFG  2001       9.8\n",
       "2     Afghanistan  AFG  2002       9.6\n",
       "3     Afghanistan  AFG  2003       9.2\n",
       "4     Afghanistan  AFG  2004       8.7\n",
       "...           ...  ...   ...       ...\n",
       "2378     Zimbabwe  ZWE  2013       6.6\n",
       "2379     Zimbabwe  ZWE  2014       7.2\n",
       "2380     Zimbabwe  ZWE  2015       7.8\n",
       "2381     Zimbabwe  ZWE  2016       8.2\n",
       "2382     Zimbabwe  ZWE  2017       8.5\n",
       "\n",
       "[2383 rows x 4 columns]"
      ]
     },
     "execution_count": 636,
     "metadata": {},
     "output_type": "execute_result"
    }
   ],
   "source": [
    "#Set variabel dataset\n",
    "df_Malnutrition= pd.read_csv('Malnutrition.csv')\n",
    "df_undernourishment=pd.read_csv('undernourished.csv')\n",
    "df_undernourishment"
   ]
  },
  {
   "cell_type": "markdown",
   "metadata": {},
   "source": [
    "**Pra-proses Dataset Malnutrition**"
   ]
  },
  {
   "cell_type": "code",
   "execution_count": 637,
   "metadata": {},
   "outputs": [
    {
     "data": {
      "text/html": [
       "<div>\n",
       "<style scoped>\n",
       "    .dataframe tbody tr th:only-of-type {\n",
       "        vertical-align: middle;\n",
       "    }\n",
       "\n",
       "    .dataframe tbody tr th {\n",
       "        vertical-align: top;\n",
       "    }\n",
       "\n",
       "    .dataframe thead th {\n",
       "        text-align: right;\n",
       "    }\n",
       "</style>\n",
       "<table border=\"1\" class=\"dataframe\">\n",
       "  <thead>\n",
       "    <tr style=\"text-align: right;\">\n",
       "      <th></th>\n",
       "      <th>ISO code</th>\n",
       "      <th>Country</th>\n",
       "      <th>Survey year</th>\n",
       "      <th>Year</th>\n",
       "      <th>Region</th>\n",
       "      <th>Sub-region</th>\n",
       "      <th>Region2</th>\n",
       "      <th>Region3</th>\n",
       "      <th>Sub-region4</th>\n",
       "      <th>Region5</th>\n",
       "      <th>...</th>\n",
       "      <th>Severe wasting</th>\n",
       "      <th>Wasting</th>\n",
       "      <th>Overweight</th>\n",
       "      <th>Stunting</th>\n",
       "      <th>Underweight</th>\n",
       "      <th>Notes</th>\n",
       "      <th>Report Author</th>\n",
       "      <th>Source</th>\n",
       "      <th>Short Source</th>\n",
       "      <th>Under 5 population (000s)</th>\n",
       "    </tr>\n",
       "  </thead>\n",
       "  <tbody>\n",
       "    <tr>\n",
       "      <th>0</th>\n",
       "      <td>AFG</td>\n",
       "      <td>AFGHANISTAN</td>\n",
       "      <td>1997</td>\n",
       "      <td>1997</td>\n",
       "      <td>Asia</td>\n",
       "      <td>Southern Asia</td>\n",
       "      <td>Central Asia and Southern Asia</td>\n",
       "      <td>SA</td>\n",
       "      <td>SA</td>\n",
       "      <td>EMRO</td>\n",
       "      <td>...</td>\n",
       "      <td>NaN</td>\n",
       "      <td>18.2</td>\n",
       "      <td>6.5</td>\n",
       "      <td>53.2</td>\n",
       "      <td>44.9</td>\n",
       "      <td>Converted estimates</td>\n",
       "      <td>CIET International</td>\n",
       "      <td>Afghanistan 1997 multiple indicator baseline ...</td>\n",
       "      <td>MICS</td>\n",
       "      <td>3838.877</td>\n",
       "    </tr>\n",
       "    <tr>\n",
       "      <th>1</th>\n",
       "      <td>AFG</td>\n",
       "      <td>AFGHANISTAN</td>\n",
       "      <td>2004</td>\n",
       "      <td>2004</td>\n",
       "      <td>Asia</td>\n",
       "      <td>Southern Asia</td>\n",
       "      <td>Central Asia and Southern Asia</td>\n",
       "      <td>SA</td>\n",
       "      <td>SA</td>\n",
       "      <td>EMRO</td>\n",
       "      <td>...</td>\n",
       "      <td>3.5</td>\n",
       "      <td>8.6</td>\n",
       "      <td>4.6</td>\n",
       "      <td>59.3</td>\n",
       "      <td>32.9</td>\n",
       "      <td>Age 0-5 months not covered; unadjusted</td>\n",
       "      <td>Ministry of Public Health (Afghanistan), UNICE...</td>\n",
       "      <td>Summary report of the national nutrition surve...</td>\n",
       "      <td>NNS</td>\n",
       "      <td>4789.353</td>\n",
       "    </tr>\n",
       "    <tr>\n",
       "      <th>2</th>\n",
       "      <td>AFG</td>\n",
       "      <td>AFGHANISTAN</td>\n",
       "      <td>2013</td>\n",
       "      <td>2013</td>\n",
       "      <td>Asia</td>\n",
       "      <td>Southern Asia</td>\n",
       "      <td>Central Asia and Southern Asia</td>\n",
       "      <td>SA</td>\n",
       "      <td>SA</td>\n",
       "      <td>EMRO</td>\n",
       "      <td>...</td>\n",
       "      <td>4.0</td>\n",
       "      <td>9.5</td>\n",
       "      <td>5.3</td>\n",
       "      <td>40.4</td>\n",
       "      <td>24.6</td>\n",
       "      <td>NaN</td>\n",
       "      <td>Ministry of Public Health, UNICEF and the Aga ...</td>\n",
       "      <td>Afghanistan National Nutrition Survey 2013.</td>\n",
       "      <td>SMART</td>\n",
       "      <td>5444.573</td>\n",
       "    </tr>\n",
       "    <tr>\n",
       "      <th>3</th>\n",
       "      <td>AFG</td>\n",
       "      <td>AFGHANISTAN</td>\n",
       "      <td>2018</td>\n",
       "      <td>2018</td>\n",
       "      <td>Asia</td>\n",
       "      <td>Southern Asia</td>\n",
       "      <td>Central Asia and Southern Asia</td>\n",
       "      <td>SA</td>\n",
       "      <td>SA</td>\n",
       "      <td>EMRO</td>\n",
       "      <td>...</td>\n",
       "      <td>1.6</td>\n",
       "      <td>5.1</td>\n",
       "      <td>4.1</td>\n",
       "      <td>38.2</td>\n",
       "      <td>19.1</td>\n",
       "      <td>NaN</td>\n",
       "      <td>KIT Royal Tropical Institute</td>\n",
       "      <td>Afghanistan Health Survey 2018</td>\n",
       "      <td>Other</td>\n",
       "      <td>5601.443</td>\n",
       "    </tr>\n",
       "    <tr>\n",
       "      <th>4</th>\n",
       "      <td>ALB</td>\n",
       "      <td>ALBANIA</td>\n",
       "      <td>1996-98</td>\n",
       "      <td>1997</td>\n",
       "      <td>Europe</td>\n",
       "      <td>Southern Europe</td>\n",
       "      <td>Northern America and Europe</td>\n",
       "      <td>ECA</td>\n",
       "      <td>EECA</td>\n",
       "      <td>EURO</td>\n",
       "      <td>...</td>\n",
       "      <td>NaN</td>\n",
       "      <td>8.1</td>\n",
       "      <td>9.5</td>\n",
       "      <td>20.4</td>\n",
       "      <td>7.1</td>\n",
       "      <td>Converted estimates</td>\n",
       "      <td>Institute of Public Health, Food and Nutrition...</td>\n",
       "      <td>National study on nutrition in Albania. Instit...</td>\n",
       "      <td>NNS</td>\n",
       "      <td>309.225</td>\n",
       "    </tr>\n",
       "    <tr>\n",
       "      <th>...</th>\n",
       "      <td>...</td>\n",
       "      <td>...</td>\n",
       "      <td>...</td>\n",
       "      <td>...</td>\n",
       "      <td>...</td>\n",
       "      <td>...</td>\n",
       "      <td>...</td>\n",
       "      <td>...</td>\n",
       "      <td>...</td>\n",
       "      <td>...</td>\n",
       "      <td>...</td>\n",
       "      <td>...</td>\n",
       "      <td>...</td>\n",
       "      <td>...</td>\n",
       "      <td>...</td>\n",
       "      <td>...</td>\n",
       "      <td>...</td>\n",
       "      <td>...</td>\n",
       "      <td>...</td>\n",
       "      <td>...</td>\n",
       "      <td>...</td>\n",
       "    </tr>\n",
       "    <tr>\n",
       "      <th>919</th>\n",
       "      <td>ZWE</td>\n",
       "      <td>ZIMBABWE</td>\n",
       "      <td>2009</td>\n",
       "      <td>2009</td>\n",
       "      <td>Africa</td>\n",
       "      <td>Eastern Africa</td>\n",
       "      <td>Sub-Saharan Africa</td>\n",
       "      <td>SSA</td>\n",
       "      <td>ESA</td>\n",
       "      <td>AFRO</td>\n",
       "      <td>...</td>\n",
       "      <td>0.5</td>\n",
       "      <td>2.4</td>\n",
       "      <td>3.5</td>\n",
       "      <td>35.1</td>\n",
       "      <td>11.7</td>\n",
       "      <td>NaN</td>\n",
       "      <td>Zimbabwe National Statistics Agency (ZIMSTAT).</td>\n",
       "      <td>Zimbabwe multiple indicator monitoring survey ...</td>\n",
       "      <td>MICS</td>\n",
       "      <td>1938.279</td>\n",
       "    </tr>\n",
       "    <tr>\n",
       "      <th>920</th>\n",
       "      <td>ZWE</td>\n",
       "      <td>ZIMBABWE</td>\n",
       "      <td>2010-11</td>\n",
       "      <td>2010</td>\n",
       "      <td>Africa</td>\n",
       "      <td>Eastern Africa</td>\n",
       "      <td>Sub-Saharan Africa</td>\n",
       "      <td>SSA</td>\n",
       "      <td>ESA</td>\n",
       "      <td>AFRO</td>\n",
       "      <td>...</td>\n",
       "      <td>0.8</td>\n",
       "      <td>3.2</td>\n",
       "      <td>5.8</td>\n",
       "      <td>32.2</td>\n",
       "      <td>10.2</td>\n",
       "      <td>NaN</td>\n",
       "      <td>Zimbabwe National Statistics Agency (ZIMSTAT) ...</td>\n",
       "      <td>Zimbabwe demographic and health survey 2010-11...</td>\n",
       "      <td>DHS</td>\n",
       "      <td>1997.281</td>\n",
       "    </tr>\n",
       "    <tr>\n",
       "      <th>921</th>\n",
       "      <td>ZWE</td>\n",
       "      <td>ZIMBABWE</td>\n",
       "      <td>2014</td>\n",
       "      <td>2014</td>\n",
       "      <td>Africa</td>\n",
       "      <td>Eastern Africa</td>\n",
       "      <td>Sub-Saharan Africa</td>\n",
       "      <td>SSA</td>\n",
       "      <td>ESA</td>\n",
       "      <td>AFRO</td>\n",
       "      <td>...</td>\n",
       "      <td>0.7</td>\n",
       "      <td>3.2</td>\n",
       "      <td>3.6</td>\n",
       "      <td>27.6</td>\n",
       "      <td>11.2</td>\n",
       "      <td>NaN</td>\n",
       "      <td>Zimbabwe National Statistics Agency (ZIMSTAT).</td>\n",
       "      <td>Zimbabwe Multiple Indicator Cluster Survey 201...</td>\n",
       "      <td>MICS</td>\n",
       "      <td>2236.182</td>\n",
       "    </tr>\n",
       "    <tr>\n",
       "      <th>922</th>\n",
       "      <td>ZWE</td>\n",
       "      <td>ZIMBABWE</td>\n",
       "      <td>2015</td>\n",
       "      <td>2015</td>\n",
       "      <td>Africa</td>\n",
       "      <td>Eastern Africa</td>\n",
       "      <td>Sub-Saharan Africa</td>\n",
       "      <td>SSA</td>\n",
       "      <td>ESA</td>\n",
       "      <td>AFRO</td>\n",
       "      <td>...</td>\n",
       "      <td>1.1</td>\n",
       "      <td>3.3</td>\n",
       "      <td>5.6</td>\n",
       "      <td>27.1</td>\n",
       "      <td>8.5</td>\n",
       "      <td>NaN</td>\n",
       "      <td>Zimbabwe National Statistics Agency; ICF Inter...</td>\n",
       "      <td>Zimbabwe Demographic and Health Survey 2015, N...</td>\n",
       "      <td>DHS</td>\n",
       "      <td>2258.788</td>\n",
       "    </tr>\n",
       "    <tr>\n",
       "      <th>923</th>\n",
       "      <td>ZWE</td>\n",
       "      <td>ZIMBABWE</td>\n",
       "      <td>2019</td>\n",
       "      <td>2019</td>\n",
       "      <td>Africa</td>\n",
       "      <td>Eastern Africa</td>\n",
       "      <td>Sub-Saharan Africa</td>\n",
       "      <td>SSA</td>\n",
       "      <td>ESA</td>\n",
       "      <td>AFRO</td>\n",
       "      <td>...</td>\n",
       "      <td>0.3</td>\n",
       "      <td>2.9</td>\n",
       "      <td>2.5</td>\n",
       "      <td>23.5</td>\n",
       "      <td>9.7</td>\n",
       "      <td>NaN</td>\n",
       "      <td>Zimbabwe National Statistics Agency (ZIMSTAT) ...</td>\n",
       "      <td>Zimbabwe Multiple Indicator Cluster Survey 2019</td>\n",
       "      <td>MICS</td>\n",
       "      <td>2138.020</td>\n",
       "    </tr>\n",
       "  </tbody>\n",
       "</table>\n",
       "<p>924 rows × 28 columns</p>\n",
       "</div>"
      ],
      "text/plain": [
       "    ISO code      Country Survey year  Year  Region       Sub-region  \\\n",
       "0        AFG  AFGHANISTAN        1997  1997    Asia    Southern Asia   \n",
       "1        AFG  AFGHANISTAN        2004  2004    Asia    Southern Asia   \n",
       "2        AFG  AFGHANISTAN        2013  2013    Asia    Southern Asia   \n",
       "3        AFG  AFGHANISTAN        2018  2018    Asia    Southern Asia   \n",
       "4        ALB      ALBANIA     1996-98  1997  Europe  Southern Europe   \n",
       "..       ...          ...         ...   ...     ...              ...   \n",
       "919      ZWE     ZIMBABWE        2009  2009  Africa   Eastern Africa   \n",
       "920      ZWE     ZIMBABWE     2010-11  2010  Africa   Eastern Africa   \n",
       "921      ZWE     ZIMBABWE        2014  2014  Africa   Eastern Africa   \n",
       "922      ZWE     ZIMBABWE        2015  2015  Africa   Eastern Africa   \n",
       "923      ZWE     ZIMBABWE        2019  2019  Africa   Eastern Africa   \n",
       "\n",
       "                            Region2 Region3 Sub-region4 Region5  ...  \\\n",
       "0    Central Asia and Southern Asia      SA          SA    EMRO  ...   \n",
       "1    Central Asia and Southern Asia      SA          SA    EMRO  ...   \n",
       "2    Central Asia and Southern Asia      SA          SA    EMRO  ...   \n",
       "3    Central Asia and Southern Asia      SA          SA    EMRO  ...   \n",
       "4       Northern America and Europe     ECA        EECA    EURO  ...   \n",
       "..                              ...     ...         ...     ...  ...   \n",
       "919              Sub-Saharan Africa     SSA         ESA    AFRO  ...   \n",
       "920              Sub-Saharan Africa     SSA         ESA    AFRO  ...   \n",
       "921              Sub-Saharan Africa     SSA         ESA    AFRO  ...   \n",
       "922              Sub-Saharan Africa     SSA         ESA    AFRO  ...   \n",
       "923              Sub-Saharan Africa     SSA         ESA    AFRO  ...   \n",
       "\n",
       "    Severe wasting Wasting Overweight Stunting Underweight  \\\n",
       "0              NaN    18.2        6.5     53.2        44.9   \n",
       "1              3.5     8.6        4.6     59.3        32.9   \n",
       "2              4.0     9.5        5.3     40.4        24.6   \n",
       "3              1.6     5.1        4.1     38.2        19.1   \n",
       "4              NaN     8.1        9.5     20.4         7.1   \n",
       "..             ...     ...        ...      ...         ...   \n",
       "919            0.5     2.4        3.5     35.1        11.7   \n",
       "920            0.8     3.2        5.8     32.2        10.2   \n",
       "921            0.7     3.2        3.6     27.6        11.2   \n",
       "922            1.1     3.3        5.6     27.1         8.5   \n",
       "923            0.3     2.9        2.5     23.5         9.7   \n",
       "\n",
       "                                      Notes  \\\n",
       "0                       Converted estimates   \n",
       "1    Age 0-5 months not covered; unadjusted   \n",
       "2                                       NaN   \n",
       "3                                       NaN   \n",
       "4                       Converted estimates   \n",
       "..                                      ...   \n",
       "919                                     NaN   \n",
       "920                                     NaN   \n",
       "921                                     NaN   \n",
       "922                                     NaN   \n",
       "923                                     NaN   \n",
       "\n",
       "                                         Report Author  \\\n",
       "0                                   CIET International   \n",
       "1    Ministry of Public Health (Afghanistan), UNICE...   \n",
       "2    Ministry of Public Health, UNICEF and the Aga ...   \n",
       "3                         KIT Royal Tropical Institute   \n",
       "4    Institute of Public Health, Food and Nutrition...   \n",
       "..                                                 ...   \n",
       "919     Zimbabwe National Statistics Agency (ZIMSTAT).   \n",
       "920  Zimbabwe National Statistics Agency (ZIMSTAT) ...   \n",
       "921     Zimbabwe National Statistics Agency (ZIMSTAT).   \n",
       "922  Zimbabwe National Statistics Agency; ICF Inter...   \n",
       "923  Zimbabwe National Statistics Agency (ZIMSTAT) ...   \n",
       "\n",
       "                                                Source  Short Source  \\\n",
       "0     Afghanistan 1997 multiple indicator baseline ...          MICS   \n",
       "1    Summary report of the national nutrition surve...           NNS   \n",
       "2          Afghanistan National Nutrition Survey 2013.         SMART   \n",
       "3                       Afghanistan Health Survey 2018         Other   \n",
       "4    National study on nutrition in Albania. Instit...           NNS   \n",
       "..                                                 ...           ...   \n",
       "919  Zimbabwe multiple indicator monitoring survey ...          MICS   \n",
       "920  Zimbabwe demographic and health survey 2010-11...           DHS   \n",
       "921  Zimbabwe Multiple Indicator Cluster Survey 201...          MICS   \n",
       "922  Zimbabwe Demographic and Health Survey 2015, N...           DHS   \n",
       "923    Zimbabwe Multiple Indicator Cluster Survey 2019          MICS   \n",
       "\n",
       "     Under 5 population (000s)  \n",
       "0                     3838.877  \n",
       "1                     4789.353  \n",
       "2                     5444.573  \n",
       "3                     5601.443  \n",
       "4                      309.225  \n",
       "..                         ...  \n",
       "919                   1938.279  \n",
       "920                   1997.281  \n",
       "921                   2236.182  \n",
       "922                   2258.788  \n",
       "923                   2138.020  \n",
       "\n",
       "[924 rows x 28 columns]"
      ]
     },
     "execution_count": 637,
     "metadata": {},
     "output_type": "execute_result"
    }
   ],
   "source": [
    "#Menampilkan tabel Malnutrition\n",
    "df_Malnutrition"
   ]
  },
  {
   "cell_type": "code",
   "execution_count": 638,
   "metadata": {},
   "outputs": [
    {
     "name": "stdout",
     "output_type": "stream",
     "text": [
      "\n",
      "\n",
      "\n",
      "Cek Info Malnutrition\n",
      "\n",
      "<class 'pandas.core.frame.DataFrame'>\n",
      "RangeIndex: 924 entries, 0 to 923\n",
      "Data columns (total 12 columns):\n",
      " #   Column                     Non-Null Count  Dtype  \n",
      "---  ------                     --------------  -----  \n",
      " 0   ISO code                   924 non-null    object \n",
      " 1   Country                    924 non-null    object \n",
      " 2   Year                       924 non-null    int64  \n",
      " 3   Region                     924 non-null    object \n",
      " 4   Sub-region                 924 non-null    object \n",
      " 5   Income Group               924 non-null    object \n",
      " 6   Severe wasting             703 non-null    float64\n",
      " 7   Wasting                    878 non-null    float64\n",
      " 8   Overweight                 795 non-null    float64\n",
      " 9   Stunting                   887 non-null    float64\n",
      " 10  Underweight                902 non-null    float64\n",
      " 11  Under 5 population (000s)  921 non-null    float64\n",
      "dtypes: float64(6), int64(1), object(5)\n",
      "memory usage: 86.8+ KB\n",
      "None\n",
      "\n",
      "\n",
      "\n",
      "Cek uniq data kolom Income Group\n",
      "\n",
      "['Low Income' 'Upper Middle Income' 'Lower Middle Income' 'High Income']\n",
      "\n",
      "\n",
      "\n",
      "Cek Null \n",
      "\n",
      "ISO code                       0\n",
      "Country                        0\n",
      "Year                           0\n",
      "Region                         0\n",
      "Sub-region                     0\n",
      "Income Group                   0\n",
      "Severe wasting               221\n",
      "Wasting                       46\n",
      "Overweight                   129\n",
      "Stunting                      37\n",
      "Underweight                   22\n",
      "Under 5 population (000s)      3\n",
      "dtype: int64\n",
      "\n",
      "\n",
      "\n",
      "Cek duplikat duplikat\n",
      "\n",
      "0\n"
     ]
    }
   ],
   "source": [
    "#Menghapus kolom yang tidak digunakan\n",
    "df_Malnutrition.drop(df_Malnutrition.columns[[2,6,7,8,9,11,12,13,14,15,16,17,23,24,25,26]], axis=1, inplace=True)\n",
    "\n",
    "# Menampilkan tipe data masing-masing kolom\n",
    "print(\"\\n\\n\\nCek Info Malnutrition\\n\")\n",
    "print(df_Malnutrition.info())\n",
    "\n",
    "# Mencari kategori pada kolom Income Group\n",
    "print(\"\\n\\n\\nCek uniq data kolom Income Group\\n\")\n",
    "print(df_Malnutrition['Income Group'].unique())\n",
    "\n",
    "#Cek apakah terdapat baris yang kosong\n",
    "print(\"\\n\\n\\nCek Null \\n\")\n",
    "print(df_Malnutrition.isnull().sum())\n",
    "\n",
    "#Cek apakah terdapat baris yang sama/duplikat\n",
    "print(\"\\n\\n\\nCek duplikat duplikat\\n\")\n",
    "print(df_Malnutrition.duplicated().sum())\n",
    "\n"
   ]
  },
  {
   "cell_type": "code",
   "execution_count": 639,
   "metadata": {},
   "outputs": [
    {
     "data": {
      "text/plain": [
       "ISO code                     0\n",
       "Country                      0\n",
       "Year                         0\n",
       "Region                       0\n",
       "Sub-region                   0\n",
       "Income Group                 0\n",
       "Severe wasting               0\n",
       "Wasting                      0\n",
       "Overweight                   0\n",
       "Stunting                     0\n",
       "Underweight                  0\n",
       "Under 5 population (000s)    3\n",
       "dtype: int64"
      ]
     },
     "execution_count": 639,
     "metadata": {},
     "output_type": "execute_result"
    }
   ],
   "source": [
    "#Mengisi missing value dengan nilai rata-rata setiap kolom\n",
    "rata_SevereWasting = df_Malnutrition['Severe wasting'].mean()\n",
    "rata_Wasting = df_Malnutrition['Wasting'].mean()\n",
    "rata_Overweight = df_Malnutrition['Overweight'].mean()\n",
    "rata_Stunting = df_Malnutrition['Stunting'].mean()\n",
    "rata_Underweight = df_Malnutrition['Underweight'].mean()\n",
    "\n",
    "df_Malnutrition['Severe wasting'] = df_Malnutrition['Severe wasting'].fillna(rata_SevereWasting)\n",
    "df_Malnutrition['Wasting'] = df_Malnutrition['Wasting'].fillna(rata_Wasting)\n",
    "df_Malnutrition['Overweight'] = df_Malnutrition['Overweight'].fillna(rata_Overweight)\n",
    "df_Malnutrition['Stunting'] = df_Malnutrition['Stunting'].fillna(rata_Stunting)\n",
    "df_Malnutrition['Underweight'] = df_Malnutrition['Underweight'].fillna(rata_Underweight)\n",
    "#cek kembali nilai null\n",
    "df_Malnutrition.isna().sum()"
   ]
  },
  {
   "cell_type": "code",
   "execution_count": 640,
   "metadata": {},
   "outputs": [
    {
     "data": {
      "text/html": [
       "<div>\n",
       "<style scoped>\n",
       "    .dataframe tbody tr th:only-of-type {\n",
       "        vertical-align: middle;\n",
       "    }\n",
       "\n",
       "    .dataframe tbody tr th {\n",
       "        vertical-align: top;\n",
       "    }\n",
       "\n",
       "    .dataframe thead th {\n",
       "        text-align: right;\n",
       "    }\n",
       "</style>\n",
       "<table border=\"1\" class=\"dataframe\">\n",
       "  <thead>\n",
       "    <tr style=\"text-align: right;\">\n",
       "      <th></th>\n",
       "      <th>ISO code</th>\n",
       "      <th>Country</th>\n",
       "      <th>Year</th>\n",
       "      <th>Region</th>\n",
       "      <th>Sub-region</th>\n",
       "      <th>Income Group</th>\n",
       "      <th>Severe wasting</th>\n",
       "      <th>Wasting</th>\n",
       "      <th>Overweight</th>\n",
       "      <th>Stunting</th>\n",
       "      <th>Underweight</th>\n",
       "      <th>Under 5 population (000s)</th>\n",
       "    </tr>\n",
       "  </thead>\n",
       "  <tbody>\n",
       "    <tr>\n",
       "      <th>0</th>\n",
       "      <td>AFG</td>\n",
       "      <td>AFGHANISTAN</td>\n",
       "      <td>1997</td>\n",
       "      <td>Asia</td>\n",
       "      <td>Southern Asia</td>\n",
       "      <td>Low Income</td>\n",
       "      <td>2.178094</td>\n",
       "      <td>18.2</td>\n",
       "      <td>6.5</td>\n",
       "      <td>53.2</td>\n",
       "      <td>44.9</td>\n",
       "      <td>3838.877</td>\n",
       "    </tr>\n",
       "    <tr>\n",
       "      <th>1</th>\n",
       "      <td>AFG</td>\n",
       "      <td>AFGHANISTAN</td>\n",
       "      <td>2004</td>\n",
       "      <td>Asia</td>\n",
       "      <td>Southern Asia</td>\n",
       "      <td>Low Income</td>\n",
       "      <td>3.500000</td>\n",
       "      <td>8.6</td>\n",
       "      <td>4.6</td>\n",
       "      <td>59.3</td>\n",
       "      <td>32.9</td>\n",
       "      <td>4789.353</td>\n",
       "    </tr>\n",
       "    <tr>\n",
       "      <th>2</th>\n",
       "      <td>AFG</td>\n",
       "      <td>AFGHANISTAN</td>\n",
       "      <td>2013</td>\n",
       "      <td>Asia</td>\n",
       "      <td>Southern Asia</td>\n",
       "      <td>Low Income</td>\n",
       "      <td>4.000000</td>\n",
       "      <td>9.5</td>\n",
       "      <td>5.3</td>\n",
       "      <td>40.4</td>\n",
       "      <td>24.6</td>\n",
       "      <td>5444.573</td>\n",
       "    </tr>\n",
       "    <tr>\n",
       "      <th>3</th>\n",
       "      <td>AFG</td>\n",
       "      <td>AFGHANISTAN</td>\n",
       "      <td>2018</td>\n",
       "      <td>Asia</td>\n",
       "      <td>Southern Asia</td>\n",
       "      <td>Low Income</td>\n",
       "      <td>1.600000</td>\n",
       "      <td>5.1</td>\n",
       "      <td>4.1</td>\n",
       "      <td>38.2</td>\n",
       "      <td>19.1</td>\n",
       "      <td>5601.443</td>\n",
       "    </tr>\n",
       "    <tr>\n",
       "      <th>4</th>\n",
       "      <td>ALB</td>\n",
       "      <td>ALBANIA</td>\n",
       "      <td>1997</td>\n",
       "      <td>Europe</td>\n",
       "      <td>Southern Europe</td>\n",
       "      <td>Upper Middle Income</td>\n",
       "      <td>2.178094</td>\n",
       "      <td>8.1</td>\n",
       "      <td>9.5</td>\n",
       "      <td>20.4</td>\n",
       "      <td>7.1</td>\n",
       "      <td>309.225</td>\n",
       "    </tr>\n",
       "    <tr>\n",
       "      <th>...</th>\n",
       "      <td>...</td>\n",
       "      <td>...</td>\n",
       "      <td>...</td>\n",
       "      <td>...</td>\n",
       "      <td>...</td>\n",
       "      <td>...</td>\n",
       "      <td>...</td>\n",
       "      <td>...</td>\n",
       "      <td>...</td>\n",
       "      <td>...</td>\n",
       "      <td>...</td>\n",
       "      <td>...</td>\n",
       "    </tr>\n",
       "    <tr>\n",
       "      <th>919</th>\n",
       "      <td>ZWE</td>\n",
       "      <td>ZIMBABWE</td>\n",
       "      <td>2009</td>\n",
       "      <td>Africa</td>\n",
       "      <td>Eastern Africa</td>\n",
       "      <td>Lower Middle Income</td>\n",
       "      <td>0.500000</td>\n",
       "      <td>2.4</td>\n",
       "      <td>3.5</td>\n",
       "      <td>35.1</td>\n",
       "      <td>11.7</td>\n",
       "      <td>1938.279</td>\n",
       "    </tr>\n",
       "    <tr>\n",
       "      <th>920</th>\n",
       "      <td>ZWE</td>\n",
       "      <td>ZIMBABWE</td>\n",
       "      <td>2010</td>\n",
       "      <td>Africa</td>\n",
       "      <td>Eastern Africa</td>\n",
       "      <td>Lower Middle Income</td>\n",
       "      <td>0.800000</td>\n",
       "      <td>3.2</td>\n",
       "      <td>5.8</td>\n",
       "      <td>32.2</td>\n",
       "      <td>10.2</td>\n",
       "      <td>1997.281</td>\n",
       "    </tr>\n",
       "    <tr>\n",
       "      <th>921</th>\n",
       "      <td>ZWE</td>\n",
       "      <td>ZIMBABWE</td>\n",
       "      <td>2014</td>\n",
       "      <td>Africa</td>\n",
       "      <td>Eastern Africa</td>\n",
       "      <td>Lower Middle Income</td>\n",
       "      <td>0.700000</td>\n",
       "      <td>3.2</td>\n",
       "      <td>3.6</td>\n",
       "      <td>27.6</td>\n",
       "      <td>11.2</td>\n",
       "      <td>2236.182</td>\n",
       "    </tr>\n",
       "    <tr>\n",
       "      <th>922</th>\n",
       "      <td>ZWE</td>\n",
       "      <td>ZIMBABWE</td>\n",
       "      <td>2015</td>\n",
       "      <td>Africa</td>\n",
       "      <td>Eastern Africa</td>\n",
       "      <td>Lower Middle Income</td>\n",
       "      <td>1.100000</td>\n",
       "      <td>3.3</td>\n",
       "      <td>5.6</td>\n",
       "      <td>27.1</td>\n",
       "      <td>8.5</td>\n",
       "      <td>2258.788</td>\n",
       "    </tr>\n",
       "    <tr>\n",
       "      <th>923</th>\n",
       "      <td>ZWE</td>\n",
       "      <td>ZIMBABWE</td>\n",
       "      <td>2019</td>\n",
       "      <td>Africa</td>\n",
       "      <td>Eastern Africa</td>\n",
       "      <td>Lower Middle Income</td>\n",
       "      <td>0.300000</td>\n",
       "      <td>2.9</td>\n",
       "      <td>2.5</td>\n",
       "      <td>23.5</td>\n",
       "      <td>9.7</td>\n",
       "      <td>2138.020</td>\n",
       "    </tr>\n",
       "  </tbody>\n",
       "</table>\n",
       "<p>924 rows × 12 columns</p>\n",
       "</div>"
      ],
      "text/plain": [
       "    ISO code      Country  Year  Region       Sub-region         Income Group  \\\n",
       "0        AFG  AFGHANISTAN  1997    Asia    Southern Asia           Low Income   \n",
       "1        AFG  AFGHANISTAN  2004    Asia    Southern Asia           Low Income   \n",
       "2        AFG  AFGHANISTAN  2013    Asia    Southern Asia           Low Income   \n",
       "3        AFG  AFGHANISTAN  2018    Asia    Southern Asia           Low Income   \n",
       "4        ALB      ALBANIA  1997  Europe  Southern Europe  Upper Middle Income   \n",
       "..       ...          ...   ...     ...              ...                  ...   \n",
       "919      ZWE     ZIMBABWE  2009  Africa   Eastern Africa  Lower Middle Income   \n",
       "920      ZWE     ZIMBABWE  2010  Africa   Eastern Africa  Lower Middle Income   \n",
       "921      ZWE     ZIMBABWE  2014  Africa   Eastern Africa  Lower Middle Income   \n",
       "922      ZWE     ZIMBABWE  2015  Africa   Eastern Africa  Lower Middle Income   \n",
       "923      ZWE     ZIMBABWE  2019  Africa   Eastern Africa  Lower Middle Income   \n",
       "\n",
       "     Severe wasting  Wasting  Overweight  Stunting  Underweight  \\\n",
       "0          2.178094     18.2         6.5      53.2         44.9   \n",
       "1          3.500000      8.6         4.6      59.3         32.9   \n",
       "2          4.000000      9.5         5.3      40.4         24.6   \n",
       "3          1.600000      5.1         4.1      38.2         19.1   \n",
       "4          2.178094      8.1         9.5      20.4          7.1   \n",
       "..              ...      ...         ...       ...          ...   \n",
       "919        0.500000      2.4         3.5      35.1         11.7   \n",
       "920        0.800000      3.2         5.8      32.2         10.2   \n",
       "921        0.700000      3.2         3.6      27.6         11.2   \n",
       "922        1.100000      3.3         5.6      27.1          8.5   \n",
       "923        0.300000      2.9         2.5      23.5          9.7   \n",
       "\n",
       "     Under 5 population (000s)  \n",
       "0                     3838.877  \n",
       "1                     4789.353  \n",
       "2                     5444.573  \n",
       "3                     5601.443  \n",
       "4                      309.225  \n",
       "..                         ...  \n",
       "919                   1938.279  \n",
       "920                   1997.281  \n",
       "921                   2236.182  \n",
       "922                   2258.788  \n",
       "923                   2138.020  \n",
       "\n",
       "[924 rows x 12 columns]"
      ]
     },
     "execution_count": 640,
     "metadata": {},
     "output_type": "execute_result"
    }
   ],
   "source": [
    "df_Malnutrition"
   ]
  },
  {
   "cell_type": "markdown",
   "metadata": {},
   "source": [
    "**Pra-proses Dataset Undernourished**"
   ]
  },
  {
   "cell_type": "code",
   "execution_count": 641,
   "metadata": {},
   "outputs": [
    {
     "name": "stdout",
     "output_type": "stream",
     "text": [
      "<class 'pandas.core.frame.DataFrame'>\n",
      "RangeIndex: 2383 entries, 0 to 2382\n",
      "Data columns (total 4 columns):\n",
      " #   Column    Non-Null Count  Dtype  \n",
      "---  ------    --------------  -----  \n",
      " 0   Entity    2383 non-null   object \n",
      " 1   Code      1821 non-null   object \n",
      " 2   Year      2383 non-null   int64  \n",
      " 3   NumberUN  2383 non-null   float64\n",
      "dtypes: float64(1), int64(1), object(2)\n",
      "memory usage: 74.6+ KB\n"
     ]
    }
   ],
   "source": [
    "#Plotting on the WorldMap using plotly\n",
    "df_undernourishment.info()"
   ]
  },
  {
   "cell_type": "code",
   "execution_count": 642,
   "metadata": {
    "scrolled": true
   },
   "outputs": [
    {
     "name": "stdout",
     "output_type": "stream",
     "text": [
      "<class 'pandas.core.frame.DataFrame'>\n",
      "RangeIndex: 2383 entries, 0 to 2382\n",
      "Data columns (total 4 columns):\n",
      " #   Column    Non-Null Count  Dtype         \n",
      "---  ------    --------------  -----         \n",
      " 0   Entity    2383 non-null   object        \n",
      " 1   Code      1821 non-null   object        \n",
      " 2   Year      2383 non-null   datetime64[ns]\n",
      " 3   NumberUN  2383 non-null   float64       \n",
      "dtypes: datetime64[ns](1), float64(1), object(2)\n",
      "memory usage: 74.6+ KB\n",
      "None\n"
     ]
    }
   ],
   "source": [
    "#Menghapus baris dengan value null kolom Year\n",
    "#df_undernourishment = df_undernourishment.dropna(subset=['Year'])\n",
    "#Formating tipe data Year \n",
    "df_undernourishment['Year']=pd.to_datetime(df_undernourishment['Year'],format='%Y')\n",
    "print(df_undernourishment.info())"
   ]
  },
  {
   "cell_type": "code",
   "execution_count": 643,
   "metadata": {},
   "outputs": [
    {
     "data": {
      "text/html": [
       "<div>\n",
       "<style scoped>\n",
       "    .dataframe tbody tr th:only-of-type {\n",
       "        vertical-align: middle;\n",
       "    }\n",
       "\n",
       "    .dataframe tbody tr th {\n",
       "        vertical-align: top;\n",
       "    }\n",
       "\n",
       "    .dataframe thead th {\n",
       "        text-align: right;\n",
       "    }\n",
       "</style>\n",
       "<table border=\"1\" class=\"dataframe\">\n",
       "  <thead>\n",
       "    <tr style=\"text-align: right;\">\n",
       "      <th></th>\n",
       "      <th>Entity</th>\n",
       "      <th>Code</th>\n",
       "      <th>Year</th>\n",
       "      <th>NumberUN</th>\n",
       "    </tr>\n",
       "  </thead>\n",
       "  <tbody>\n",
       "    <tr>\n",
       "      <th>0</th>\n",
       "      <td>Afghanistan</td>\n",
       "      <td>AFG</td>\n",
       "      <td>2000-01-01</td>\n",
       "      <td>9.3</td>\n",
       "    </tr>\n",
       "    <tr>\n",
       "      <th>1</th>\n",
       "      <td>Afghanistan</td>\n",
       "      <td>AFG</td>\n",
       "      <td>2001-01-01</td>\n",
       "      <td>9.8</td>\n",
       "    </tr>\n",
       "    <tr>\n",
       "      <th>2</th>\n",
       "      <td>Afghanistan</td>\n",
       "      <td>AFG</td>\n",
       "      <td>2002-01-01</td>\n",
       "      <td>9.6</td>\n",
       "    </tr>\n",
       "    <tr>\n",
       "      <th>3</th>\n",
       "      <td>Afghanistan</td>\n",
       "      <td>AFG</td>\n",
       "      <td>2003-01-01</td>\n",
       "      <td>9.2</td>\n",
       "    </tr>\n",
       "    <tr>\n",
       "      <th>4</th>\n",
       "      <td>Afghanistan</td>\n",
       "      <td>AFG</td>\n",
       "      <td>2004-01-01</td>\n",
       "      <td>8.7</td>\n",
       "    </tr>\n",
       "    <tr>\n",
       "      <th>...</th>\n",
       "      <td>...</td>\n",
       "      <td>...</td>\n",
       "      <td>...</td>\n",
       "      <td>...</td>\n",
       "    </tr>\n",
       "    <tr>\n",
       "      <th>2378</th>\n",
       "      <td>Zimbabwe</td>\n",
       "      <td>ZWE</td>\n",
       "      <td>2013-01-01</td>\n",
       "      <td>6.6</td>\n",
       "    </tr>\n",
       "    <tr>\n",
       "      <th>2379</th>\n",
       "      <td>Zimbabwe</td>\n",
       "      <td>ZWE</td>\n",
       "      <td>2014-01-01</td>\n",
       "      <td>7.2</td>\n",
       "    </tr>\n",
       "    <tr>\n",
       "      <th>2380</th>\n",
       "      <td>Zimbabwe</td>\n",
       "      <td>ZWE</td>\n",
       "      <td>2015-01-01</td>\n",
       "      <td>7.8</td>\n",
       "    </tr>\n",
       "    <tr>\n",
       "      <th>2381</th>\n",
       "      <td>Zimbabwe</td>\n",
       "      <td>ZWE</td>\n",
       "      <td>2016-01-01</td>\n",
       "      <td>8.2</td>\n",
       "    </tr>\n",
       "    <tr>\n",
       "      <th>2382</th>\n",
       "      <td>Zimbabwe</td>\n",
       "      <td>ZWE</td>\n",
       "      <td>2017-01-01</td>\n",
       "      <td>8.5</td>\n",
       "    </tr>\n",
       "  </tbody>\n",
       "</table>\n",
       "<p>2383 rows × 4 columns</p>\n",
       "</div>"
      ],
      "text/plain": [
       "           Entity Code       Year  NumberUN\n",
       "0     Afghanistan  AFG 2000-01-01       9.3\n",
       "1     Afghanistan  AFG 2001-01-01       9.8\n",
       "2     Afghanistan  AFG 2002-01-01       9.6\n",
       "3     Afghanistan  AFG 2003-01-01       9.2\n",
       "4     Afghanistan  AFG 2004-01-01       8.7\n",
       "...           ...  ...        ...       ...\n",
       "2378     Zimbabwe  ZWE 2013-01-01       6.6\n",
       "2379     Zimbabwe  ZWE 2014-01-01       7.2\n",
       "2380     Zimbabwe  ZWE 2015-01-01       7.8\n",
       "2381     Zimbabwe  ZWE 2016-01-01       8.2\n",
       "2382     Zimbabwe  ZWE 2017-01-01       8.5\n",
       "\n",
       "[2383 rows x 4 columns]"
      ]
     },
     "execution_count": 643,
     "metadata": {},
     "output_type": "execute_result"
    }
   ],
   "source": [
    "df_undernourishment"
   ]
  },
  {
   "cell_type": "markdown",
   "metadata": {},
   "source": [
    "# **Visualisasi**"
   ]
  },
  {
   "cell_type": "code",
   "execution_count": 644,
   "metadata": {},
   "outputs": [
    {
     "data": {
      "text/plain": [
       "Text(0.5, 0, 'Year')"
      ]
     },
     "execution_count": 644,
     "metadata": {},
     "output_type": "execute_result"
    },
    {
     "data": {
      "image/png": "[encoded data removed]",
      "text/plain": [
       "<Figure size 1152x576 with 1 Axes>"
      ]
     },
     "metadata": {
      "needs_background": "light"
     },
     "output_type": "display_data"
    }
   ],
   "source": [
    "#Perkembangan Gizi Buruk dari tahun 2000-2017 di dunia\n",
    "plt.figure(figsize=(16, 8))\n",
    "sns.set(style=\"darkgrid\")\n",
    "total_under = df_undernourishment.query(\"Entity == 'World'\")\n",
    "ax=sns.lineplot(data=total_under, x=\"Year\", y=\"NumberUN\")\n",
    "ax.set_title('Undernourishment 2000-2017')\n",
    "ax.set_ylabel('Undernourishment (Million)')\n",
    "ax.set_xlabel('Year')"
   ]
  },
  {
   "cell_type": "code",
   "execution_count": 647,
   "metadata": {},
   "outputs": [
    {
     "data": {
      "application/vnd.plotly.v1+json": {
       "config": {
        "plotlyServerURL": "https://plot.ly"
       },
       "data": [
        {
         "autocolorscale": false,
         "colorbar": {
          "tickprefix": "",
          "title": {
           "text": "Millions"
          }
         },
         "colorscale": [
          [
           0,
           "rgb(247,251,255)"
          ],
          [
           0.125,
           "rgb(222,235,247)"
          ],
          [
           0.25,
           "rgb(198,219,239)"
          ],
          [
           0.375,
           "rgb(158,202,225)"
          ],
          [
           0.5,
           "rgb(107,174,214)"
          ],
          [
           0.625,
           "rgb(66,146,198)"
          ],
          [
           0.75,
           "rgb(33,113,181)"
          ],
          [
           0.875,
           "rgb(8,81,156)"
          ],
          [
           1,
           "rgb(8,48,107)"
          ]
         ],
         "locations": [
          "AFG",
          null,
          "ALB",
          "DZA",
          "AGO",
          "ARG",
          "ARM",
          null,
          null,
          "BGD",
          "BEN",
          "BOL",
          "BWA",
          "BGR",
          "BFA",
          "KHM",
          "CMR",
          null,
          "CAF",
          null,
          null,
          "TCD",
          "CHL",
          "CHN",
          "COL",
          "COG",
          "CRI",
          "CIV",
          "DJI",
          "DOM",
          null,
          null,
          null,
          null,
          "ECU",
          "EGY",
          "SLV",
          "SWZ",
          "ETH",
          "GAB",
          "GMB",
          "GEO",
          "GHA",
          "GTM",
          "GIN",
          "GNB",
          "HTI",
          "HND",
          "IND",
          "IDN",
          "IRN",
          "IRQ",
          "JAM",
          "JOR",
          "KEN",
          "KWT",
          "KGZ",
          null,
          "LAO",
          null,
          "LBN",
          "LSO",
          "LBR",
          null,
          null,
          null,
          "MDG",
          "MWI",
          "MYS",
          "MLI",
          "MRT",
          "MEX",
          null,
          "MNG",
          "MAR",
          "MOZ",
          "MMR",
          "NAM",
          "NPL",
          "NIC",
          "NER",
          "NGA",
          null,
          "PRK",
          null,
          null,
          null,
          "OMN",
          "PAK",
          "PAN",
          "PRY",
          "PER",
          "PHL",
          "RWA",
          "SAU",
          "SEN",
          "SRB",
          "SLE",
          "SVK",
          null,
          "ZAF",
          null,
          null,
          null,
          null,
          null,
          "LKA",
          null,
          null,
          "SDN",
          "TWN",
          "TZA",
          "THA",
          "TLS",
          "TGO",
          "TUN",
          "TKM",
          "UGA",
          "UKR",
          "ARE",
          null,
          "UZB",
          "VEN",
          "VNM",
          null,
          null,
          "OWID_WRL",
          "YEM",
          "ZMB",
          "ZWE"
         ],
         "marker": {
          "line": {
           "color": "darkgray",
           "width": 0.5
          }
         },
         "reversescale": true,
         "text": [
          "Afghanistan",
          "Africa",
          "Albania",
          "Algeria",
          "Angola",
          "Argentina",
          "Armenia",
          "Asia",
          "Asia Central",
          "Bangladesh",
          "Benin",
          "Bolivia",
          "Botswana",
          "Bulgaria",
          "Burkina Faso",
          "Cambodia",
          "Cameroon",
          "Caribbean",
          "Central African Republic",
          "Central America",
          "Central and Southern Asia",
          "Chad",
          "Chile",
          "China",
          "Colombia",
          "Congo",
          "Costa Rica",
          "Cote d'Ivoire",
          "Djibouti",
          "Dominican Republic",
          "East Asia (exc China)",
          "Eastern Africa",
          "Eastern Asia",
          "Eastern and South-Eastern Asia",
          "Ecuador",
          "Egypt",
          "El Salvador",
          "Eswatini",
          "Ethiopia",
          "Gabon",
          "Gambia",
          "Georgia",
          "Ghana",
          "Guatemala",
          "Guinea",
          "Guinea-Bissau",
          "Haiti",
          "Honduras",
          "India",
          "Indonesia",
          "Iran",
          "Iraq",
          "Jamaica",
          "Jordan",
          "Kenya",
          "Kuwait",
          "Kyrgyzstan",
          "Land Locked Developing Countries",
          "Laos",
          "Least Developed Countries",
          "Lebanon",
          "Lesotho",
          "Liberia",
          "Low Income Food Deficit Countries",
          "Low income",
          "Lower middle income",
          "Madagascar",
          "Malawi",
          "Malaysia",
          "Mali",
          "Mauritania",
          "Mexico",
          "Middle Africa",
          "Mongolia",
          "Morocco",
          "Mozambique",
          "Myanmar",
          "Namibia",
          "Nepal",
          "Nicaragua",
          "Niger",
          "Nigeria",
          "North Africa (exc Sudan)",
          "North Korea",
          "Northern Africa",
          "Northern Africa and Western Asia",
          "Oceania",
          "Oman",
          "Pakistan",
          "Panama",
          "Paraguay",
          "Peru",
          "Philippines",
          "Rwanda",
          "Saudi Arabia",
          "Senegal",
          "Serbia",
          "Sierra Leone",
          "Slovakia",
          "Small island developing States",
          "South Africa",
          "South America",
          "South Asia (exc India)",
          "South Eastern Asia",
          "Southern Africa",
          "Southern Asia",
          "Sri Lanka",
          "Sub-Saharan Africa",
          "Sub-Saharan Africa (inc. Sudan)",
          "Sudan",
          "Taiwan",
          "Tanzania",
          "Thailand",
          "Timor",
          "Togo",
          "Tunisia",
          "Turkmenistan",
          "Uganda",
          "Ukraine",
          "United Arab Emirates",
          "Upper middle income",
          "Uzbekistan",
          "Venezuela",
          "Vietnam",
          "Western Africa",
          "Western Asia",
          "World",
          "Yemen",
          "Zambia",
          "Zimbabwe"
         ],
         "type": "choropleth",
         "z": [
          10.6,
          246.4,
          0.2,
          1.6,
          7.4,
          2.1,
          0.1,
          512.9,
          4,
          24.2,
          1.1,
          1.9,
          0.6,
          0.3,
          3.8,
          2.6,
          2.4,
          7.7,
          2.8,
          10.8,
          281.7,
          5.6,
          0.5,
          122.4,
          2.4,
          2.1,
          0.2,
          4.6,
          0.2,
          1,
          15.4,
          129.9,
          137.6,
          198.8,
          1.3,
          4.4,
          0.6,
          0.3,
          21.6,
          0.2,
          0.2,
          0.3,
          1.6,
          2.6,
          2.1,
          0.5,
          5.4,
          1.2,
          194.4,
          22,
          4,
          11.1,
          0.2,
          1.2,
          14.6,
          0.1,
          0.4,
          110.1,
          1.1,
          236.9,
          0.7,
          0.3,
          1.8,
          524.9,
          202.8,
          409.1,
          11.4,
          3.3,
          0.8,
          1.2,
          0.5,
          4.7,
          43,
          0.4,
          1.2,
          8.3,
          5.7,
          0.7,
          2.5,
          1.1,
          3.6,
          25.6,
          8.3,
          12.2,
          16.5,
          48.8,
          2.5,
          0.3,
          40,
          0.4,
          0.7,
          3.1,
          13.9,
          4.5,
          2.3,
          1.8,
          0.5,
          1.9,
          0.2,
          11.8,
          3.5,
          23.1,
          83.4,
          61.2,
          5.4,
          277.7,
          1.9,
          229.9,
          238.1,
          8.2,
          0.8,
          17.6,
          5.4,
          0.3,
          1.3,
          0.5,
          0.3,
          17.6,
          1.5,
          0.2,
          183.4,
          2,
          6.8,
          8.8,
          51.6,
          32.3,
          809.9,
          11,
          8,
          8.5
         ]
        }
       ],
       "layout": {
        "geo": {
         "projection": {
          "type": "equirectangular"
         },
         "showcoastlines": false,
         "showframe": false
        },
        "template": {
         "data": {
          "bar": [
           {
            "error_x": {
             "color": "#2a3f5f"
            },
            "error_y": {
             "color": "#2a3f5f"
            },
            "marker": {
             "line": {
              "color": "#E5ECF6",
              "width": 0.5
             }
            },
            "type": "bar"
           }
          ],
          "barpolar": [
           {
            "marker": {
             "line": {
              "color": "#E5ECF6",
              "width": 0.5
             }
            },
            "type": "barpolar"
           }
          ],
          "carpet": [
           {
            "aaxis": {
             "endlinecolor": "#2a3f5f",
             "gridcolor": "white",
             "linecolor": "white",
             "minorgridcolor": "white",
             "startlinecolor": "#2a3f5f"
            },
            "baxis": {
             "endlinecolor": "#2a3f5f",
             "gridcolor": "white",
             "linecolor": "white",
             "minorgridcolor": "white",
             "startlinecolor": "#2a3f5f"
            },
            "type": "carpet"
           }
          ],
          "choropleth": [
           {
            "colorbar": {
             "outlinewidth": 0,
             "ticks": ""
            },
            "type": "choropleth"
           }
          ],
          "contour": [
           {
            "colorbar": {
             "outlinewidth": 0,
             "ticks": ""
            },
            "colorscale": [
             [
              0,
              "#0d0887"
             ],
             [
              0.1111111111111111,
              "#46039f"
             ],
             [
              0.2222222222222222,
              "#7201a8"
             ],
             [
              0.3333333333333333,
              "#9c179e"
             ],
             [
              0.4444444444444444,
              "#bd3786"
             ],
             [
              0.5555555555555556,
              "#d8576b"
             ],
             [
              0.6666666666666666,
              "#ed7953"
             ],
             [
              0.7777777777777778,
              "#fb9f3a"
             ],
             [
              0.8888888888888888,
              "#fdca26"
             ],
             [
              1,
              "#f0f921"
             ]
            ],
            "type": "contour"
           }
          ],
          "contourcarpet": [
           {
            "colorbar": {
             "outlinewidth": 0,
             "ticks": ""
            },
            "type": "contourcarpet"
           }
          ],
          "heatmap": [
           {
            "colorbar": {
             "outlinewidth": 0,
             "ticks": ""
            },
            "colorscale": [
             [
              0,
              "#0d0887"
             ],
             [
              0.1111111111111111,
              "#46039f"
             ],
             [
              0.2222222222222222,
              "#7201a8"
             ],
             [
              0.3333333333333333,
              "#9c179e"
             ],
             [
              0.4444444444444444,
              "#bd3786"
             ],
             [
              0.5555555555555556,
              "#d8576b"
             ],
             [
              0.6666666666666666,
              "#ed7953"
             ],
             [
              0.7777777777777778,
              "#fb9f3a"
             ],
             [
              0.8888888888888888,
              "#fdca26"
             ],
             [
              1,
              "#f0f921"
             ]
            ],
            "type": "heatmap"
           }
          ],
          "heatmapgl": [
           {
            "colorbar": {
             "outlinewidth": 0,
             "ticks": ""
            },
            "colorscale": [
             [
              0,
              "#0d0887"
             ],
             [
              0.1111111111111111,
              "#46039f"
             ],
             [
              0.2222222222222222,
              "#7201a8"
             ],
             [
              0.3333333333333333,
              "#9c179e"
             ],
             [
              0.4444444444444444,
              "#bd3786"
             ],
             [
              0.5555555555555556,
              "#d8576b"
             ],
             [
              0.6666666666666666,
              "#ed7953"
             ],
             [
              0.7777777777777778,
              "#fb9f3a"
             ],
             [
              0.8888888888888888,
              "#fdca26"
             ],
             [
              1,
              "#f0f921"
             ]
            ],
            "type": "heatmapgl"
           }
          ],
          "histogram": [
           {
            "marker": {
             "colorbar": {
              "outlinewidth": 0,
              "ticks": ""
             }
            },
            "type": "histogram"
           }
          ],
          "histogram2d": [
           {
            "colorbar": {
             "outlinewidth": 0,
             "ticks": ""
            },
            "colorscale": [
             [
              0,
              "#0d0887"
             ],
             [
              0.1111111111111111,
              "#46039f"
             ],
             [
              0.2222222222222222,
              "#7201a8"
             ],
             [
              0.3333333333333333,
              "#9c179e"
             ],
             [
              0.4444444444444444,
              "#bd3786"
             ],
             [
              0.5555555555555556,
              "#d8576b"
             ],
             [
              0.6666666666666666,
              "#ed7953"
             ],
             [
              0.7777777777777778,
              "#fb9f3a"
             ],
             [
              0.8888888888888888,
              "#fdca26"
             ],
             [
              1,
              "#f0f921"
             ]
            ],
            "type": "histogram2d"
           }
          ],
          "histogram2dcontour": [
           {
            "colorbar": {
             "outlinewidth": 0,
             "ticks": ""
            },
            "colorscale": [
             [
              0,
              "#0d0887"
             ],
             [
              0.1111111111111111,
              "#46039f"
             ],
             [
              0.2222222222222222,
              "#7201a8"
             ],
             [
              0.3333333333333333,
              "#9c179e"
             ],
             [
              0.4444444444444444,
              "#bd3786"
             ],
             [
              0.5555555555555556,
              "#d8576b"
             ],
             [
              0.6666666666666666,
              "#ed7953"
             ],
             [
              0.7777777777777778,
              "#fb9f3a"
             ],
             [
              0.8888888888888888,
              "#fdca26"
             ],
             [
              1,
              "#f0f921"
             ]
            ],
            "type": "histogram2dcontour"
           }
          ],
          "mesh3d": [
           {
            "colorbar": {
             "outlinewidth": 0,
             "ticks": ""
            },
            "type": "mesh3d"
           }
          ],
          "parcoords": [
           {
            "line": {
             "colorbar": {
              "outlinewidth": 0,
              "ticks": ""
             }
            },
            "type": "parcoords"
           }
          ],
          "pie": [
           {
            "automargin": true,
            "type": "pie"
           }
          ],
          "scatter": [
           {
            "marker": {
             "colorbar": {
              "outlinewidth": 0,
              "ticks": ""
             }
            },
            "type": "scatter"
           }
          ],
          "scatter3d": [
           {
            "line": {
             "colorbar": {
              "outlinewidth": 0,
              "ticks": ""
             }
            },
            "marker": {
             "colorbar": {
              "outlinewidth": 0,
              "ticks": ""
             }
            },
            "type": "scatter3d"
           }
          ],
          "scattercarpet": [
           {
            "marker": {
             "colorbar": {
              "outlinewidth": 0,
              "ticks": ""
             }
            },
            "type": "scattercarpet"
           }
          ],
          "scattergeo": [
           {
            "marker": {
             "colorbar": {
              "outlinewidth": 0,
              "ticks": ""
             }
            },
            "type": "scattergeo"
           }
          ],
          "scattergl": [
           {
            "marker": {
             "colorbar": {
              "outlinewidth": 0,
              "ticks": ""
             }
            },
            "type": "scattergl"
           }
          ],
          "scattermapbox": [
           {
            "marker": {
             "colorbar": {
              "outlinewidth": 0,
              "ticks": ""
             }
            },
            "type": "scattermapbox"
           }
          ],
          "scatterpolar": [
           {
            "marker": {
             "colorbar": {
              "outlinewidth": 0,
              "ticks": ""
             }
            },
            "type": "scatterpolar"
           }
          ],
          "scatterpolargl": [
           {
            "marker": {
             "colorbar": {
              "outlinewidth": 0,
              "ticks": ""
             }
            },
            "type": "scatterpolargl"
           }
          ],
          "scatterternary": [
           {
            "marker": {
             "colorbar": {
              "outlinewidth": 0,
              "ticks": ""
             }
            },
            "type": "scatterternary"
           }
          ],
          "surface": [
           {
            "colorbar": {
             "outlinewidth": 0,
             "ticks": ""
            },
            "colorscale": [
             [
              0,
              "#0d0887"
             ],
             [
              0.1111111111111111,
              "#46039f"
             ],
             [
              0.2222222222222222,
              "#7201a8"
             ],
             [
              0.3333333333333333,
              "#9c179e"
             ],
             [
              0.4444444444444444,
              "#bd3786"
             ],
             [
              0.5555555555555556,
              "#d8576b"
             ],
             [
              0.6666666666666666,
              "#ed7953"
             ],
             [
              0.7777777777777778,
              "#fb9f3a"
             ],
             [
              0.8888888888888888,
              "#fdca26"
             ],
             [
              1,
              "#f0f921"
             ]
            ],
            "type": "surface"
           }
          ],
          "table": [
           {
            "cells": {
             "fill": {
              "color": "#EBF0F8"
             },
             "line": {
              "color": "white"
             }
            },
            "header": {
             "fill": {
              "color": "#C8D4E3"
             },
             "line": {
              "color": "white"
             }
            },
            "type": "table"
           }
          ]
         },
         "layout": {
          "annotationdefaults": {
           "arrowcolor": "#2a3f5f",
           "arrowhead": 0,
           "arrowwidth": 1
          },
          "autotypenumbers": "strict",
          "coloraxis": {
           "colorbar": {
            "outlinewidth": 0,
            "ticks": ""
           }
          },
          "colorscale": {
           "diverging": [
            [
             0,
             "#8e0152"
            ],
            [
             0.1,
             "#c51b7d"
            ],
            [
             0.2,
             "#de77ae"
            ],
            [
             0.3,
             "#f1b6da"
            ],
            [
             0.4,
             "#fde0ef"
            ],
            [
             0.5,
             "#f7f7f7"
            ],
            [
             0.6,
             "#e6f5d0"
            ],
            [
             0.7,
             "#b8e186"
            ],
            [
             0.8,
             "#7fbc41"
            ],
            [
             0.9,
             "#4d9221"
            ],
            [
             1,
             "#276419"
            ]
           ],
           "sequential": [
            [
             0,
             "#0d0887"
            ],
            [
             0.1111111111111111,
             "#46039f"
            ],
            [
             0.2222222222222222,
             "#7201a8"
            ],
            [
             0.3333333333333333,
             "#9c179e"
            ],
            [
             0.4444444444444444,
             "#bd3786"
            ],
            [
             0.5555555555555556,
             "#d8576b"
            ],
            [
             0.6666666666666666,
             "#ed7953"
            ],
            [
             0.7777777777777778,
             "#fb9f3a"
            ],
            [
             0.8888888888888888,
             "#fdca26"
            ],
            [
             1,
             "#f0f921"
            ]
           ],
           "sequentialminus": [
            [
             0,
             "#0d0887"
            ],
            [
             0.1111111111111111,
             "#46039f"
            ],
            [
             0.2222222222222222,
             "#7201a8"
            ],
            [
             0.3333333333333333,
             "#9c179e"
            ],
            [
             0.4444444444444444,
             "#bd3786"
            ],
            [
             0.5555555555555556,
             "#d8576b"
            ],
            [
             0.6666666666666666,
             "#ed7953"
            ],
            [
             0.7777777777777778,
             "#fb9f3a"
            ],
            [
             0.8888888888888888,
             "#fdca26"
            ],
            [
             1,
             "#f0f921"
            ]
           ]
          },
          "colorway": [
           "#636efa",
           "#EF553B",
           "#00cc96",
           "#ab63fa",
           "#FFA15A",
           "#19d3f3",
           "#FF6692",
           "#B6E880",
           "#FF97FF",
           "#FECB52"
          ],
          "font": {
           "color": "#2a3f5f"
          },
          "geo": {
           "bgcolor": "white",
           "lakecolor": "white",
           "landcolor": "#E5ECF6",
           "showlakes": true,
           "showland": true,
           "subunitcolor": "white"
          },
          "hoverlabel": {
           "align": "left"
          },
          "hovermode": "closest",
          "mapbox": {
           "style": "light"
          },
          "paper_bgcolor": "white",
          "plot_bgcolor": "#E5ECF6",
          "polar": {
           "angularaxis": {
            "gridcolor": "white",
            "linecolor": "white",
            "ticks": ""
           },
           "bgcolor": "#E5ECF6",
           "radialaxis": {
            "gridcolor": "white",
            "linecolor": "white",
            "ticks": ""
           }
          },
          "scene": {
           "xaxis": {
            "backgroundcolor": "#E5ECF6",
            "gridcolor": "white",
            "gridwidth": 2,
            "linecolor": "white",
            "showbackground": true,
            "ticks": "",
            "zerolinecolor": "white"
           },
           "yaxis": {
            "backgroundcolor": "#E5ECF6",
            "gridcolor": "white",
            "gridwidth": 2,
            "linecolor": "white",
            "showbackground": true,
            "ticks": "",
            "zerolinecolor": "white"
           },
           "zaxis": {
            "backgroundcolor": "#E5ECF6",
            "gridcolor": "white",
            "gridwidth": 2,
            "linecolor": "white",
            "showbackground": true,
            "ticks": "",
            "zerolinecolor": "white"
           }
          },
          "shapedefaults": {
           "line": {
            "color": "#2a3f5f"
           }
          },
          "ternary": {
           "aaxis": {
            "gridcolor": "white",
            "linecolor": "white",
            "ticks": ""
           },
           "baxis": {
            "gridcolor": "white",
            "linecolor": "white",
            "ticks": ""
           },
           "bgcolor": "#E5ECF6",
           "caxis": {
            "gridcolor": "white",
            "linecolor": "white",
            "ticks": ""
           }
          },
          "title": {
           "x": 0.05
          },
          "xaxis": {
           "automargin": true,
           "gridcolor": "white",
           "linecolor": "white",
           "ticks": "",
           "title": {
            "standoff": 15
           },
           "zerolinecolor": "white",
           "zerolinewidth": 2
          },
          "yaxis": {
           "automargin": true,
           "gridcolor": "white",
           "linecolor": "white",
           "ticks": "",
           "title": {
            "standoff": 15
           },
           "zerolinecolor": "white",
           "zerolinewidth": 2
          }
         }
        },
        "title": {
         "text": "Undernourishment World in 2017"
        }
       }
      },
      "text/html": [
       "<div>                            <div id=\"42952540-5863-40a4-96e5-493d21a49f7c\" class=\"plotly-graph-div\" style=\"height:525px; width:100%;\"></div>            <script type=\"text/javascript\">                require([\"plotly\"], function(Plotly) {                    window.PLOTLYENV=window.PLOTLYENV || {};                                    if (document.getElementById(\"42952540-5863-40a4-96e5-493d21a49f7c\")) {                    Plotly.newPlot(                        \"42952540-5863-40a4-96e5-493d21a49f7c\",                        [{\"autocolorscale\": false, \"colorbar\": {\"tickprefix\": \"\", \"title\": {\"text\": \"Millions\"}}, \"colorscale\": [[0.0, \"rgb(247,251,255)\"], [0.125, \"rgb(222,235,247)\"], [0.25, \"rgb(198,219,239)\"], [0.375, \"rgb(158,202,225)\"], [0.5, \"rgb(107,174,214)\"], [0.625, \"rgb(66,146,198)\"], [0.75, \"rgb(33,113,181)\"], [0.875, \"rgb(8,81,156)\"], [1.0, \"rgb(8,48,107)\"]], \"locations\": [\"AFG\", null, \"ALB\", \"DZA\", \"AGO\", \"ARG\", \"ARM\", null, null, \"BGD\", \"BEN\", \"BOL\", \"BWA\", \"BGR\", \"BFA\", \"KHM\", \"CMR\", null, \"CAF\", null, null, \"TCD\", \"CHL\", \"CHN\", \"COL\", \"COG\", \"CRI\", \"CIV\", \"DJI\", \"DOM\", null, null, null, null, \"ECU\", \"EGY\", \"SLV\", \"SWZ\", \"ETH\", \"GAB\", \"GMB\", \"GEO\", \"GHA\", \"GTM\", \"GIN\", \"GNB\", \"HTI\", \"HND\", \"IND\", \"IDN\", \"IRN\", \"IRQ\", \"JAM\", \"JOR\", \"KEN\", \"KWT\", \"KGZ\", null, \"LAO\", null, \"LBN\", \"LSO\", \"LBR\", null, null, null, \"MDG\", \"MWI\", \"MYS\", \"MLI\", \"MRT\", \"MEX\", null, \"MNG\", \"MAR\", \"MOZ\", \"MMR\", \"NAM\", \"NPL\", \"NIC\", \"NER\", \"NGA\", null, \"PRK\", null, null, null, \"OMN\", \"PAK\", \"PAN\", \"PRY\", \"PER\", \"PHL\", \"RWA\", \"SAU\", \"SEN\", \"SRB\", \"SLE\", \"SVK\", null, \"ZAF\", null, null, null, null, null, \"LKA\", null, null, \"SDN\", \"TWN\", \"TZA\", \"THA\", \"TLS\", \"TGO\", \"TUN\", \"TKM\", \"UGA\", \"UKR\", \"ARE\", null, \"UZB\", \"VEN\", \"VNM\", null, null, \"OWID_WRL\", \"YEM\", \"ZMB\", \"ZWE\"], \"marker\": {\"line\": {\"color\": \"darkgray\", \"width\": 0.5}}, \"reversescale\": true, \"text\": [\"Afghanistan\", \"Africa\", \"Albania\", \"Algeria\", \"Angola\", \"Argentina\", \"Armenia\", \"Asia\", \"Asia Central\", \"Bangladesh\", \"Benin\", \"Bolivia\", \"Botswana\", \"Bulgaria\", \"Burkina Faso\", \"Cambodia\", \"Cameroon\", \"Caribbean\", \"Central African Republic\", \"Central America\", \"Central and Southern Asia\", \"Chad\", \"Chile\", \"China\", \"Colombia\", \"Congo\", \"Costa Rica\", \"Cote d'Ivoire\", \"Djibouti\", \"Dominican Republic\", \"East Asia (exc China)\", \"Eastern Africa\", \"Eastern Asia\", \"Eastern and South-Eastern Asia\", \"Ecuador\", \"Egypt\", \"El Salvador\", \"Eswatini\", \"Ethiopia\", \"Gabon\", \"Gambia\", \"Georgia\", \"Ghana\", \"Guatemala\", \"Guinea\", \"Guinea-Bissau\", \"Haiti\", \"Honduras\", \"India\", \"Indonesia\", \"Iran\", \"Iraq\", \"Jamaica\", \"Jordan\", \"Kenya\", \"Kuwait\", \"Kyrgyzstan\", \"Land Locked Developing Countries\", \"Laos\", \"Least Developed Countries\", \"Lebanon\", \"Lesotho\", \"Liberia\", \"Low Income Food Deficit Countries\", \"Low income\", \"Lower middle income\", \"Madagascar\", \"Malawi\", \"Malaysia\", \"Mali\", \"Mauritania\", \"Mexico\", \"Middle Africa\", \"Mongolia\", \"Morocco\", \"Mozambique\", \"Myanmar\", \"Namibia\", \"Nepal\", \"Nicaragua\", \"Niger\", \"Nigeria\", \"North Africa (exc Sudan)\", \"North Korea\", \"Northern Africa\", \"Northern Africa and Western Asia\", \"Oceania\", \"Oman\", \"Pakistan\", \"Panama\", \"Paraguay\", \"Peru\", \"Philippines\", \"Rwanda\", \"Saudi Arabia\", \"Senegal\", \"Serbia\", \"Sierra Leone\", \"Slovakia\", \"Small island developing States\", \"South Africa\", \"South America\", \"South Asia (exc India)\", \"South Eastern Asia\", \"Southern Africa\", \"Southern Asia\", \"Sri Lanka\", \"Sub-Saharan Africa\", \"Sub-Saharan Africa (inc. Sudan)\", \"Sudan\", \"Taiwan\", \"Tanzania\", \"Thailand\", \"Timor\", \"Togo\", \"Tunisia\", \"Turkmenistan\", \"Uganda\", \"Ukraine\", \"United Arab Emirates\", \"Upper middle income\", \"Uzbekistan\", \"Venezuela\", \"Vietnam\", \"Western Africa\", \"Western Asia\", \"World\", \"Yemen\", \"Zambia\", \"Zimbabwe\"], \"type\": \"choropleth\", \"z\": [10.6, 246.4, 0.2, 1.6, 7.4, 2.1, 0.1, 512.9, 4.0, 24.2, 1.1, 1.9, 0.6, 0.3, 3.8, 2.6, 2.4, 7.7, 2.8, 10.8, 281.7, 5.6, 0.5, 122.4, 2.4, 2.1, 0.2, 4.6, 0.2, 1.0, 15.4, 129.9, 137.6, 198.8, 1.3, 4.4, 0.6, 0.3, 21.6, 0.2, 0.2, 0.3, 1.6, 2.6, 2.1, 0.5, 5.4, 1.2, 194.4, 22.0, 4.0, 11.1, 0.2, 1.2, 14.6, 0.1, 0.4, 110.1, 1.1, 236.9, 0.7, 0.3, 1.8, 524.9, 202.8, 409.1, 11.4, 3.3, 0.8, 1.2, 0.5, 4.7, 43.0, 0.4, 1.2, 8.3, 5.7, 0.7, 2.5, 1.1, 3.6, 25.6, 8.3, 12.2, 16.5, 48.8, 2.5, 0.3, 40.0, 0.4, 0.7, 3.1, 13.9, 4.5, 2.3, 1.8, 0.5, 1.9, 0.2, 11.8, 3.5, 23.1, 83.4, 61.2, 5.4, 277.7, 1.9, 229.9, 238.1, 8.2, 0.8, 17.6, 5.4, 0.3, 1.3, 0.5, 0.3, 17.6, 1.5, 0.2, 183.4, 2.0, 6.8, 8.8, 51.6, 32.3, 809.9, 11.0, 8.0, 8.5]}],                        {\"geo\": {\"projection\": {\"type\": \"equirectangular\"}, \"showcoastlines\": false, \"showframe\": false}, \"template\": {\"data\": {\"bar\": [{\"error_x\": {\"color\": \"#2a3f5f\"}, \"error_y\": {\"color\": \"#2a3f5f\"}, \"marker\": {\"line\": {\"color\": \"#E5ECF6\", \"width\": 0.5}}, \"type\": \"bar\"}], \"barpolar\": [{\"marker\": {\"line\": {\"color\": \"#E5ECF6\", \"width\": 0.5}}, \"type\": \"barpolar\"}], \"carpet\": [{\"aaxis\": {\"endlinecolor\": \"#2a3f5f\", \"gridcolor\": \"white\", \"linecolor\": \"white\", \"minorgridcolor\": \"white\", \"startlinecolor\": \"#2a3f5f\"}, \"baxis\": {\"endlinecolor\": \"#2a3f5f\", \"gridcolor\": \"white\", \"linecolor\": \"white\", \"minorgridcolor\": \"white\", \"startlinecolor\": \"#2a3f5f\"}, \"type\": \"carpet\"}], \"choropleth\": [{\"colorbar\": {\"outlinewidth\": 0, \"ticks\": \"\"}, \"type\": \"choropleth\"}], \"contour\": [{\"colorbar\": {\"outlinewidth\": 0, \"ticks\": \"\"}, \"colorscale\": [[0.0, \"#0d0887\"], [0.1111111111111111, \"#46039f\"], [0.2222222222222222, \"#7201a8\"], [0.3333333333333333, \"#9c179e\"], [0.4444444444444444, \"#bd3786\"], [0.5555555555555556, \"#d8576b\"], [0.6666666666666666, \"#ed7953\"], [0.7777777777777778, \"#fb9f3a\"], [0.8888888888888888, \"#fdca26\"], [1.0, \"#f0f921\"]], \"type\": \"contour\"}], \"contourcarpet\": [{\"colorbar\": {\"outlinewidth\": 0, \"ticks\": \"\"}, \"type\": \"contourcarpet\"}], \"heatmap\": [{\"colorbar\": {\"outlinewidth\": 0, \"ticks\": \"\"}, \"colorscale\": [[0.0, \"#0d0887\"], [0.1111111111111111, \"#46039f\"], [0.2222222222222222, \"#7201a8\"], [0.3333333333333333, \"#9c179e\"], [0.4444444444444444, \"#bd3786\"], [0.5555555555555556, \"#d8576b\"], [0.6666666666666666, \"#ed7953\"], [0.7777777777777778, \"#fb9f3a\"], [0.8888888888888888, \"#fdca26\"], [1.0, \"#f0f921\"]], \"type\": \"heatmap\"}], \"heatmapgl\": [{\"colorbar\": {\"outlinewidth\": 0, \"ticks\": \"\"}, \"colorscale\": [[0.0, \"#0d0887\"], [0.1111111111111111, \"#46039f\"], [0.2222222222222222, \"#7201a8\"], [0.3333333333333333, \"#9c179e\"], [0.4444444444444444, \"#bd3786\"], [0.5555555555555556, \"#d8576b\"], [0.6666666666666666, \"#ed7953\"], [0.7777777777777778, \"#fb9f3a\"], [0.8888888888888888, \"#fdca26\"], [1.0, \"#f0f921\"]], \"type\": \"heatmapgl\"}], \"histogram\": [{\"marker\": {\"colorbar\": {\"outlinewidth\": 0, \"ticks\": \"\"}}, \"type\": \"histogram\"}], \"histogram2d\": [{\"colorbar\": {\"outlinewidth\": 0, \"ticks\": \"\"}, \"colorscale\": [[0.0, \"#0d0887\"], [0.1111111111111111, \"#46039f\"], [0.2222222222222222, \"#7201a8\"], [0.3333333333333333, \"#9c179e\"], [0.4444444444444444, \"#bd3786\"], [0.5555555555555556, \"#d8576b\"], [0.6666666666666666, \"#ed7953\"], [0.7777777777777778, \"#fb9f3a\"], [0.8888888888888888, \"#fdca26\"], [1.0, \"#f0f921\"]], \"type\": \"histogram2d\"}], \"histogram2dcontour\": [{\"colorbar\": {\"outlinewidth\": 0, \"ticks\": \"\"}, \"colorscale\": [[0.0, \"#0d0887\"], [0.1111111111111111, \"#46039f\"], [0.2222222222222222, \"#7201a8\"], [0.3333333333333333, \"#9c179e\"], [0.4444444444444444, \"#bd3786\"], [0.5555555555555556, \"#d8576b\"], [0.6666666666666666, \"#ed7953\"], [0.7777777777777778, \"#fb9f3a\"], [0.8888888888888888, \"#fdca26\"], [1.0, \"#f0f921\"]], \"type\": \"histogram2dcontour\"}], \"mesh3d\": [{\"colorbar\": {\"outlinewidth\": 0, \"ticks\": \"\"}, \"type\": \"mesh3d\"}], \"parcoords\": [{\"line\": {\"colorbar\": {\"outlinewidth\": 0, \"ticks\": \"\"}}, \"type\": \"parcoords\"}], \"pie\": [{\"automargin\": true, \"type\": \"pie\"}], \"scatter\": [{\"marker\": {\"colorbar\": {\"outlinewidth\": 0, \"ticks\": \"\"}}, \"type\": \"scatter\"}], \"scatter3d\": [{\"line\": {\"colorbar\": {\"outlinewidth\": 0, \"ticks\": \"\"}}, \"marker\": {\"colorbar\": {\"outlinewidth\": 0, \"ticks\": \"\"}}, \"type\": \"scatter3d\"}], \"scattercarpet\": [{\"marker\": {\"colorbar\": {\"outlinewidth\": 0, \"ticks\": \"\"}}, \"type\": \"scattercarpet\"}], \"scattergeo\": [{\"marker\": {\"colorbar\": {\"outlinewidth\": 0, \"ticks\": \"\"}}, \"type\": \"scattergeo\"}], \"scattergl\": [{\"marker\": {\"colorbar\": {\"outlinewidth\": 0, \"ticks\": \"\"}}, \"type\": \"scattergl\"}], \"scattermapbox\": [{\"marker\": {\"colorbar\": {\"outlinewidth\": 0, \"ticks\": \"\"}}, \"type\": \"scattermapbox\"}], \"scatterpolar\": [{\"marker\": {\"colorbar\": {\"outlinewidth\": 0, \"ticks\": \"\"}}, \"type\": \"scatterpolar\"}], \"scatterpolargl\": [{\"marker\": {\"colorbar\": {\"outlinewidth\": 0, \"ticks\": \"\"}}, \"type\": \"scatterpolargl\"}], \"scatterternary\": [{\"marker\": {\"colorbar\": {\"outlinewidth\": 0, \"ticks\": \"\"}}, \"type\": \"scatterternary\"}], \"surface\": [{\"colorbar\": {\"outlinewidth\": 0, \"ticks\": \"\"}, \"colorscale\": [[0.0, \"#0d0887\"], [0.1111111111111111, \"#46039f\"], [0.2222222222222222, \"#7201a8\"], [0.3333333333333333, \"#9c179e\"], [0.4444444444444444, \"#bd3786\"], [0.5555555555555556, \"#d8576b\"], [0.6666666666666666, \"#ed7953\"], [0.7777777777777778, \"#fb9f3a\"], [0.8888888888888888, \"#fdca26\"], [1.0, \"#f0f921\"]], \"type\": \"surface\"}], \"table\": [{\"cells\": {\"fill\": {\"color\": \"#EBF0F8\"}, \"line\": {\"color\": \"white\"}}, \"header\": {\"fill\": {\"color\": \"#C8D4E3\"}, \"line\": {\"color\": \"white\"}}, \"type\": \"table\"}]}, \"layout\": {\"annotationdefaults\": {\"arrowcolor\": \"#2a3f5f\", \"arrowhead\": 0, \"arrowwidth\": 1}, \"autotypenumbers\": \"strict\", \"coloraxis\": {\"colorbar\": {\"outlinewidth\": 0, \"ticks\": \"\"}}, \"colorscale\": {\"diverging\": [[0, \"#8e0152\"], [0.1, \"#c51b7d\"], [0.2, \"#de77ae\"], [0.3, \"#f1b6da\"], [0.4, \"#fde0ef\"], [0.5, \"#f7f7f7\"], [0.6, \"#e6f5d0\"], [0.7, \"#b8e186\"], [0.8, \"#7fbc41\"], [0.9, \"#4d9221\"], [1, \"#276419\"]], \"sequential\": [[0.0, \"#0d0887\"], [0.1111111111111111, \"#46039f\"], [0.2222222222222222, \"#7201a8\"], [0.3333333333333333, \"#9c179e\"], [0.4444444444444444, \"#bd3786\"], [0.5555555555555556, \"#d8576b\"], [0.6666666666666666, \"#ed7953\"], [0.7777777777777778, \"#fb9f3a\"], [0.8888888888888888, \"#fdca26\"], [1.0, \"#f0f921\"]], \"sequentialminus\": [[0.0, \"#0d0887\"], [0.1111111111111111, \"#46039f\"], [0.2222222222222222, \"#7201a8\"], [0.3333333333333333, \"#9c179e\"], [0.4444444444444444, \"#bd3786\"], [0.5555555555555556, \"#d8576b\"], [0.6666666666666666, \"#ed7953\"], [0.7777777777777778, \"#fb9f3a\"], [0.8888888888888888, \"#fdca26\"], [1.0, \"#f0f921\"]]}, \"colorway\": [\"#636efa\", \"#EF553B\", \"#00cc96\", \"#ab63fa\", \"#FFA15A\", \"#19d3f3\", \"#FF6692\", \"#B6E880\", \"#FF97FF\", \"#FECB52\"], \"font\": {\"color\": \"#2a3f5f\"}, \"geo\": {\"bgcolor\": \"white\", \"lakecolor\": \"white\", \"landcolor\": \"#E5ECF6\", \"showlakes\": true, \"showland\": true, \"subunitcolor\": \"white\"}, \"hoverlabel\": {\"align\": \"left\"}, \"hovermode\": \"closest\", \"mapbox\": {\"style\": \"light\"}, \"paper_bgcolor\": \"white\", \"plot_bgcolor\": \"#E5ECF6\", \"polar\": {\"angularaxis\": {\"gridcolor\": \"white\", \"linecolor\": \"white\", \"ticks\": \"\"}, \"bgcolor\": \"#E5ECF6\", \"radialaxis\": {\"gridcolor\": \"white\", \"linecolor\": \"white\", \"ticks\": \"\"}}, \"scene\": {\"xaxis\": {\"backgroundcolor\": \"#E5ECF6\", \"gridcolor\": \"white\", \"gridwidth\": 2, \"linecolor\": \"white\", \"showbackground\": true, \"ticks\": \"\", \"zerolinecolor\": \"white\"}, \"yaxis\": {\"backgroundcolor\": \"#E5ECF6\", \"gridcolor\": \"white\", \"gridwidth\": 2, \"linecolor\": \"white\", \"showbackground\": true, \"ticks\": \"\", \"zerolinecolor\": \"white\"}, \"zaxis\": {\"backgroundcolor\": \"#E5ECF6\", \"gridcolor\": \"white\", \"gridwidth\": 2, \"linecolor\": \"white\", \"showbackground\": true, \"ticks\": \"\", \"zerolinecolor\": \"white\"}}, \"shapedefaults\": {\"line\": {\"color\": \"#2a3f5f\"}}, \"ternary\": {\"aaxis\": {\"gridcolor\": \"white\", \"linecolor\": \"white\", \"ticks\": \"\"}, \"baxis\": {\"gridcolor\": \"white\", \"linecolor\": \"white\", \"ticks\": \"\"}, \"bgcolor\": \"#E5ECF6\", \"caxis\": {\"gridcolor\": \"white\", \"linecolor\": \"white\", \"ticks\": \"\"}}, \"title\": {\"x\": 0.05}, \"xaxis\": {\"automargin\": true, \"gridcolor\": \"white\", \"linecolor\": \"white\", \"ticks\": \"\", \"title\": {\"standoff\": 15}, \"zerolinecolor\": \"white\", \"zerolinewidth\": 2}, \"yaxis\": {\"automargin\": true, \"gridcolor\": \"white\", \"linecolor\": \"white\", \"ticks\": \"\", \"title\": {\"standoff\": 15}, \"zerolinecolor\": \"white\", \"zerolinewidth\": 2}}}, \"title\": {\"text\": \"Undernourishment World in 2017\"}},                        {\"responsive\": true}                    ).then(function(){\n",
       "                            \n",
       "var gd = document.getElementById('42952540-5863-40a4-96e5-493d21a49f7c');\n",
       "var x = new MutationObserver(function (mutations, observer) {{\n",
       "        var display = window.getComputedStyle(gd).display;\n",
       "        if (!display || display === 'none') {{\n",
       "            console.log([gd, 'removed!']);\n",
       "            Plotly.purge(gd);\n",
       "            observer.disconnect();\n",
       "        }}\n",
       "}});\n",
       "\n",
       "// Listen for the removal of the full notebook cells\n",
       "var notebookContainer = gd.closest('#notebook-container');\n",
       "if (notebookContainer) {{\n",
       "    x.observe(notebookContainer, {childList: true});\n",
       "}}\n",
       "\n",
       "// Listen for the clearing of the current output cell\n",
       "var outputEl = gd.closest('.output');\n",
       "if (outputEl) {{\n",
       "    x.observe(outputEl, {childList: true});\n",
       "}}\n",
       "\n",
       "                        })                };                });            </script>        </div>"
      ]
     },
     "metadata": {},
     "output_type": "display_data"
    }
   ],
   "source": [
    "#Melihat Gizi Buruk dengan Map pada tahun 2017\n",
    "df = df_undernourishment.query(\"Year == '2017'\")\n",
    "fig = go.Figure(data=go.Choropleth(\n",
    "    locations = df['Code'],\n",
    "    z = df['NumberUN'],\n",
    "    text = df['Entity'],\n",
    "    colorscale = 'Blues',\n",
    "    autocolorscale=False,\n",
    "    reversescale=True,\n",
    "    marker_line_color='darkgray',\n",
    "    marker_line_width=0.5,\n",
    "    colorbar_tickprefix = '',\n",
    "    colorbar_title = 'Millions',\n",
    "))\n",
    "\n",
    "fig.update_layout(\n",
    "    title_text='Undernourishment World in 2017',\n",
    "    geo=dict(\n",
    "        showframe=False,\n",
    "        showcoastlines=False,\n",
    "        projection_type='equirectangular'\n",
    "    )\n",
    ")\n",
    "\n",
    "fig.show()"
   ]
  },
  {
   "cell_type": "code",
   "execution_count": 648,
   "metadata": {},
   "outputs": [
    {
     "data": {
      "text/plain": [
       "(array([ 0,  1,  2,  3,  4,  5,  6,  7,  8,  9, 10, 11, 12, 13, 14, 15, 16,\n",
       "        17, 18]),\n",
       " [Text(0, 0, 'MARSHALL ISLANDS'),\n",
       "  Text(1, 0, 'INDIA'),\n",
       "  Text(2, 0, \"LAO PEOPLE'S DEMOCRATIC REPUBLIC\"),\n",
       "  Text(3, 0, 'SIERRA LEONE'),\n",
       "  Text(4, 0, 'AUSTRALIA'),\n",
       "  Text(5, 0, 'MALAWI'),\n",
       "  Text(6, 0, 'TOGO'),\n",
       "  Text(7, 0, 'VIET NAM'),\n",
       "  Text(8, 0, 'HAITI'),\n",
       "  Text(9, 0, 'BURKINA FASO'),\n",
       "  Text(10, 0, \"DEMOCRATIC PEOPLE'S REPUBLIC OF KOREA\"),\n",
       "  Text(11, 0, 'GHANA'),\n",
       "  Text(12, 0, 'TAJIKISTAN'),\n",
       "  Text(13, 0, 'SENEGAL'),\n",
       "  Text(14, 0, 'MOROCCO'),\n",
       "  Text(15, 0, 'PERU'),\n",
       "  Text(16, 0, 'OMAN'),\n",
       "  Text(17, 0, 'ALBANIA'),\n",
       "  Text(18, 0, 'UZBEKISTAN')])"
      ]
     },
     "execution_count": 648,
     "metadata": {},
     "output_type": "execute_result"
    },
    {
     "data": {
      "image/png": "[encoded data removed]",
      "text/plain": [
       "<Figure size 1152x576 with 1 Axes>"
      ]
     },
     "metadata": {},
     "output_type": "display_data"
    }
   ],
   "source": [
    "#TOP 10 Negara Dengan Stunting Tertinggi di 2017\n",
    "\n",
    "plt.figure(figsize=(16, 8))\n",
    "sort_stunting = df_Malnutrition[(df_Malnutrition[\"Year\"] == 2017) ].sort_values(by=\"Stunting\", ascending=False).head(20)\n",
    "sns.set(style=\"darkgrid\")\n",
    "ax = sns.barplot(data=sort_stunting, x=\"Country\", y=\"Stunting\")\n",
    "ax.set_title('Stunting by Country in 2017')\n",
    "ax.set_ylabel('Percentage')\n",
    "ax.set_xlabel('Country')\n",
    "plt.xticks(rotation = 90)"
   ]
  },
  {
   "cell_type": "code",
   "execution_count": 649,
   "metadata": {},
   "outputs": [
    {
     "data": {
      "text/plain": [
       "(array([ 0,  1,  2,  3,  4,  5,  6,  7,  8,  9, 10, 11, 12, 13, 14, 15, 16,\n",
       "        17, 18]),\n",
       " [Text(0, 0, 'INDIA'),\n",
       "  Text(1, 0, 'OMAN'),\n",
       "  Text(2, 0, 'SENEGAL'),\n",
       "  Text(3, 0, \"LAO PEOPLE'S DEMOCRATIC REPUBLIC\"),\n",
       "  Text(4, 0, 'BURKINA FASO'),\n",
       "  Text(5, 0, 'AUSTRALIA'),\n",
       "  Text(6, 0, 'GHANA'),\n",
       "  Text(7, 0, 'SIERRA LEONE'),\n",
       "  Text(8, 0, 'VIET NAM'),\n",
       "  Text(9, 0, 'TOGO'),\n",
       "  Text(10, 0, 'TAJIKISTAN'),\n",
       "  Text(11, 0, 'HAITI'),\n",
       "  Text(12, 0, 'MARSHALL ISLANDS'),\n",
       "  Text(13, 0, 'MOROCCO'),\n",
       "  Text(14, 0, 'KUWAIT'),\n",
       "  Text(15, 0, \"DEMOCRATIC PEOPLE'S REPUBLIC OF KOREA\"),\n",
       "  Text(16, 0, 'MALAWI'),\n",
       "  Text(17, 0, 'UZBEKISTAN'),\n",
       "  Text(18, 0, 'ALBANIA')])"
      ]
     },
     "execution_count": 649,
     "metadata": {},
     "output_type": "execute_result"
    },
    {
     "data": {
      "image/png": "[encoded data removed]",
      "text/plain": [
       "<Figure size 1152x576 with 1 Axes>"
      ]
     },
     "metadata": {},
     "output_type": "display_data"
    }
   ],
   "source": [
    "#TOP 10 Negara dengan Wasting Tertinggi di 2017\n",
    "\n",
    "plt.figure(figsize=(16, 8))\n",
    "sort_wasting = df_Malnutrition[(df_Malnutrition[\"Year\"] == 2017) ].sort_values(by=\"Wasting\", ascending=False).head(20)\n",
    "sns.set(style=\"darkgrid\")\n",
    "ax = sns.barplot(data=sort_wasting, x=\"Country\", y=\"Wasting\")\n",
    "ax.set_title('Wasting by Country in 2017')\n",
    "ax.set_ylabel('Percentage')\n",
    "ax.set_xlabel('Country')\n",
    "plt.xticks(rotation = 90)"
   ]
  },
  {
   "cell_type": "code",
   "execution_count": 650,
   "metadata": {},
   "outputs": [
    {
     "data": {
      "text/plain": [
       "(array([ 0,  1,  2,  3,  4,  5,  6,  7,  8,  9, 10, 11, 12, 13, 14, 15, 16,\n",
       "        17, 18]),\n",
       " [Text(0, 0, 'INDIA'),\n",
       "  Text(1, 0, 'OMAN'),\n",
       "  Text(2, 0, \"LAO PEOPLE'S DEMOCRATIC REPUBLIC\"),\n",
       "  Text(3, 0, 'SIERRA LEONE'),\n",
       "  Text(4, 0, 'KUWAIT'),\n",
       "  Text(5, 0, 'AUSTRALIA'),\n",
       "  Text(6, 0, 'BURKINA FASO'),\n",
       "  Text(7, 0, 'TAJIKISTAN'),\n",
       "  Text(8, 0, 'SENEGAL'),\n",
       "  Text(9, 0, 'VIET NAM'),\n",
       "  Text(10, 0, 'TOGO'),\n",
       "  Text(11, 0, 'MARSHALL ISLANDS'),\n",
       "  Text(12, 0, 'MOROCCO'),\n",
       "  Text(13, 0, 'GHANA'),\n",
       "  Text(14, 0, 'HAITI'),\n",
       "  Text(15, 0, \"DEMOCRATIC PEOPLE'S REPUBLIC OF KOREA\"),\n",
       "  Text(16, 0, 'ALBANIA'),\n",
       "  Text(17, 0, 'MALAWI'),\n",
       "  Text(18, 0, 'UZBEKISTAN')])"
      ]
     },
     "execution_count": 650,
     "metadata": {},
     "output_type": "execute_result"
    },
    {
     "data": {
      "image/png": "[encoded data removed]",
      "text/plain": [
       "<Figure size 1152x576 with 1 Axes>"
      ]
     },
     "metadata": {},
     "output_type": "display_data"
    }
   ],
   "source": [
    "#TOP 10 Negara dengan Severe Wasting Tertinggi di 2017\n",
    "\n",
    "plt.figure(figsize=(16, 8))\n",
    "sort_wasting = df_Malnutrition[(df_Malnutrition[\"Year\"] == 2017) ].sort_values(by=\"Severe wasting\", ascending=False).head(20)\n",
    "sns.set(style=\"darkgrid\")\n",
    "ax = sns.barplot(data=sort_wasting, x=\"Country\", y=\"Severe wasting\")\n",
    "ax.set_title('Severe Wasting by Country in 2017')\n",
    "ax.set_ylabel('Percentage')\n",
    "ax.set_xlabel('Country')\n",
    "plt.xticks(rotation = 90)"
   ]
  },
  {
   "cell_type": "code",
   "execution_count": 651,
   "metadata": {},
   "outputs": [
    {
     "data": {
      "text/plain": [
       "(array([ 0,  1,  2,  3,  4,  5,  6,  7,  8,  9, 10, 11, 12, 13, 14, 15, 16,\n",
       "        17, 18]),\n",
       " [Text(0, 0, 'AUSTRALIA'),\n",
       "  Text(1, 0, 'ALBANIA'),\n",
       "  Text(2, 0, 'MOROCCO'),\n",
       "  Text(3, 0, 'PERU'),\n",
       "  Text(4, 0, 'MALAWI'),\n",
       "  Text(5, 0, 'VIET NAM'),\n",
       "  Text(6, 0, 'KUWAIT'),\n",
       "  Text(7, 0, 'UZBEKISTAN'),\n",
       "  Text(8, 0, 'OMAN'),\n",
       "  Text(9, 0, 'SIERRA LEONE'),\n",
       "  Text(10, 0, 'MARSHALL ISLANDS'),\n",
       "  Text(11, 0, \"LAO PEOPLE'S DEMOCRATIC REPUBLIC\"),\n",
       "  Text(12, 0, 'HAITI'),\n",
       "  Text(13, 0, 'TAJIKISTAN'),\n",
       "  Text(14, 0, \"DEMOCRATIC PEOPLE'S REPUBLIC OF KOREA\"),\n",
       "  Text(15, 0, 'BURKINA FASO'),\n",
       "  Text(16, 0, 'INDIA'),\n",
       "  Text(17, 0, 'TOGO'),\n",
       "  Text(18, 0, 'GHANA')])"
      ]
     },
     "execution_count": 651,
     "metadata": {},
     "output_type": "execute_result"
    },
    {
     "data": {
      "image/png": "[encoded data removed]",
      "text/plain": [
       "<Figure size 1152x576 with 1 Axes>"
      ]
     },
     "metadata": {},
     "output_type": "display_data"
    }
   ],
   "source": [
    "#TOP 10 Negara dengan Overweight Tertinggi di 2017\n",
    "\n",
    "plt.figure(figsize=(16, 8))\n",
    "sort_wasting = df_Malnutrition[(df_Malnutrition[\"Year\"] == 2017) ].sort_values(by=\"Overweight\", ascending=False).head(20)\n",
    "sns.set(style=\"darkgrid\")\n",
    "ax = sns.barplot(data=sort_wasting, x=\"Country\", y=\"Overweight\")\n",
    "ax.set_title('Overweight by Country in 2017')\n",
    "ax.set_ylabel('Percentage')\n",
    "ax.set_xlabel('Country')\n",
    "plt.xticks(rotation = 90)"
   ]
  },
  {
   "cell_type": "code",
   "execution_count": 652,
   "metadata": {},
   "outputs": [
    {
     "data": {
      "text/plain": [
       "(array([ 0,  1,  2,  3,  4,  5,  6,  7,  8,  9, 10, 11, 12, 13, 14, 15, 16,\n",
       "        17, 18]),\n",
       " [Text(0, 0, 'INDIA'),\n",
       "  Text(1, 0, \"LAO PEOPLE'S DEMOCRATIC REPUBLIC\"),\n",
       "  Text(2, 0, 'BURKINA FASO'),\n",
       "  Text(3, 0, 'KUWAIT'),\n",
       "  Text(4, 0, 'AUSTRALIA'),\n",
       "  Text(5, 0, 'SIERRA LEONE'),\n",
       "  Text(6, 0, 'TOGO'),\n",
       "  Text(7, 0, 'SENEGAL'),\n",
       "  Text(8, 0, 'VIET NAM'),\n",
       "  Text(9, 0, 'GHANA'),\n",
       "  Text(10, 0, 'MARSHALL ISLANDS'),\n",
       "  Text(11, 0, 'OMAN'),\n",
       "  Text(12, 0, 'MALAWI'),\n",
       "  Text(13, 0, 'HAITI'),\n",
       "  Text(14, 0, \"DEMOCRATIC PEOPLE'S REPUBLIC OF KOREA\"),\n",
       "  Text(15, 0, 'TAJIKISTAN'),\n",
       "  Text(16, 0, 'PERU'),\n",
       "  Text(17, 0, 'UZBEKISTAN'),\n",
       "  Text(18, 0, 'MOROCCO')])"
      ]
     },
     "execution_count": 652,
     "metadata": {},
     "output_type": "execute_result"
    },
    {
     "data": {
      "image/png": "[encoded data removed]",
      "text/plain": [
       "<Figure size 1152x576 with 1 Axes>"
      ]
     },
     "metadata": {},
     "output_type": "display_data"
    }
   ],
   "source": [
    "#TOP 10 Negara dengan Underweight Tertinggi di 2017\n",
    "plt.figure(figsize=(16, 8))\n",
    "sort_wasting = df_Malnutrition[(df_Malnutrition[\"Year\"] == 2017) ].sort_values(by=\"Underweight\", ascending=False).head(20)\n",
    "sns.set(style=\"darkgrid\")\n",
    "ax = sns.barplot(data=sort_wasting, x=\"Country\", y=\"Underweight\")\n",
    "ax.set_title('Underweight by Country in 2017')\n",
    "ax.set_ylabel('Percentage')\n",
    "ax.set_xlabel('Country')\n",
    "plt.xticks(rotation = 90)"
   ]
  },
  {
   "cell_type": "code",
   "execution_count": 653,
   "metadata": {},
   "outputs": [
    {
     "data": {
      "text/html": [
       "<div>\n",
       "<style scoped>\n",
       "    .dataframe tbody tr th:only-of-type {\n",
       "        vertical-align: middle;\n",
       "    }\n",
       "\n",
       "    .dataframe tbody tr th {\n",
       "        vertical-align: top;\n",
       "    }\n",
       "\n",
       "    .dataframe thead th {\n",
       "        text-align: right;\n",
       "    }\n",
       "</style>\n",
       "<table border=\"1\" class=\"dataframe\">\n",
       "  <thead>\n",
       "    <tr style=\"text-align: right;\">\n",
       "      <th></th>\n",
       "      <th>Income Group</th>\n",
       "      <th>Overweight</th>\n",
       "      <th>Stunting</th>\n",
       "      <th>Underweight</th>\n",
       "      <th>Wasting</th>\n",
       "      <th>Severe wasting</th>\n",
       "    </tr>\n",
       "  </thead>\n",
       "  <tbody>\n",
       "    <tr>\n",
       "      <th>0</th>\n",
       "      <td>Low Income</td>\n",
       "      <td>6.5</td>\n",
       "      <td>53.2</td>\n",
       "      <td>44.9</td>\n",
       "      <td>18.2</td>\n",
       "      <td>2.178094</td>\n",
       "    </tr>\n",
       "    <tr>\n",
       "      <th>1</th>\n",
       "      <td>Low Income</td>\n",
       "      <td>4.6</td>\n",
       "      <td>59.3</td>\n",
       "      <td>32.9</td>\n",
       "      <td>8.6</td>\n",
       "      <td>3.500000</td>\n",
       "    </tr>\n",
       "    <tr>\n",
       "      <th>2</th>\n",
       "      <td>Low Income</td>\n",
       "      <td>5.3</td>\n",
       "      <td>40.4</td>\n",
       "      <td>24.6</td>\n",
       "      <td>9.5</td>\n",
       "      <td>4.000000</td>\n",
       "    </tr>\n",
       "    <tr>\n",
       "      <th>3</th>\n",
       "      <td>Low Income</td>\n",
       "      <td>4.1</td>\n",
       "      <td>38.2</td>\n",
       "      <td>19.1</td>\n",
       "      <td>5.1</td>\n",
       "      <td>1.600000</td>\n",
       "    </tr>\n",
       "    <tr>\n",
       "      <th>4</th>\n",
       "      <td>Upper Middle Income</td>\n",
       "      <td>9.5</td>\n",
       "      <td>20.4</td>\n",
       "      <td>7.1</td>\n",
       "      <td>8.1</td>\n",
       "      <td>2.178094</td>\n",
       "    </tr>\n",
       "    <tr>\n",
       "      <th>...</th>\n",
       "      <td>...</td>\n",
       "      <td>...</td>\n",
       "      <td>...</td>\n",
       "      <td>...</td>\n",
       "      <td>...</td>\n",
       "      <td>...</td>\n",
       "    </tr>\n",
       "    <tr>\n",
       "      <th>919</th>\n",
       "      <td>Lower Middle Income</td>\n",
       "      <td>3.5</td>\n",
       "      <td>35.1</td>\n",
       "      <td>11.7</td>\n",
       "      <td>2.4</td>\n",
       "      <td>0.500000</td>\n",
       "    </tr>\n",
       "    <tr>\n",
       "      <th>920</th>\n",
       "      <td>Lower Middle Income</td>\n",
       "      <td>5.8</td>\n",
       "      <td>32.2</td>\n",
       "      <td>10.2</td>\n",
       "      <td>3.2</td>\n",
       "      <td>0.800000</td>\n",
       "    </tr>\n",
       "    <tr>\n",
       "      <th>921</th>\n",
       "      <td>Lower Middle Income</td>\n",
       "      <td>3.6</td>\n",
       "      <td>27.6</td>\n",
       "      <td>11.2</td>\n",
       "      <td>3.2</td>\n",
       "      <td>0.700000</td>\n",
       "    </tr>\n",
       "    <tr>\n",
       "      <th>922</th>\n",
       "      <td>Lower Middle Income</td>\n",
       "      <td>5.6</td>\n",
       "      <td>27.1</td>\n",
       "      <td>8.5</td>\n",
       "      <td>3.3</td>\n",
       "      <td>1.100000</td>\n",
       "    </tr>\n",
       "    <tr>\n",
       "      <th>923</th>\n",
       "      <td>Lower Middle Income</td>\n",
       "      <td>2.5</td>\n",
       "      <td>23.5</td>\n",
       "      <td>9.7</td>\n",
       "      <td>2.9</td>\n",
       "      <td>0.300000</td>\n",
       "    </tr>\n",
       "  </tbody>\n",
       "</table>\n",
       "<p>924 rows × 6 columns</p>\n",
       "</div>"
      ],
      "text/plain": [
       "            Income Group  Overweight  Stunting  Underweight  Wasting  \\\n",
       "0             Low Income         6.5      53.2         44.9     18.2   \n",
       "1             Low Income         4.6      59.3         32.9      8.6   \n",
       "2             Low Income         5.3      40.4         24.6      9.5   \n",
       "3             Low Income         4.1      38.2         19.1      5.1   \n",
       "4    Upper Middle Income         9.5      20.4          7.1      8.1   \n",
       "..                   ...         ...       ...          ...      ...   \n",
       "919  Lower Middle Income         3.5      35.1         11.7      2.4   \n",
       "920  Lower Middle Income         5.8      32.2         10.2      3.2   \n",
       "921  Lower Middle Income         3.6      27.6         11.2      3.2   \n",
       "922  Lower Middle Income         5.6      27.1          8.5      3.3   \n",
       "923  Lower Middle Income         2.5      23.5          9.7      2.9   \n",
       "\n",
       "     Severe wasting  \n",
       "0          2.178094  \n",
       "1          3.500000  \n",
       "2          4.000000  \n",
       "3          1.600000  \n",
       "4          2.178094  \n",
       "..              ...  \n",
       "919        0.500000  \n",
       "920        0.800000  \n",
       "921        0.700000  \n",
       "922        1.100000  \n",
       "923        0.300000  \n",
       "\n",
       "[924 rows x 6 columns]"
      ]
     },
     "execution_count": 653,
     "metadata": {},
     "output_type": "execute_result"
    }
   ],
   "source": [
    "#Melihat hubungan antara Undernourishment (Stunting, Overweight, Underweight, Wasting dan Severe Wasting) terhadap pendapatan negara\n",
    "df_averages = df_Malnutrition[['Income Group', 'Overweight', 'Stunting', 'Underweight', 'Wasting', 'Severe wasting']].copy()\n",
    "df_averages"
   ]
  },
  {
   "cell_type": "code",
   "execution_count": 654,
   "metadata": {},
   "outputs": [
    {
     "data": {
      "image/png": "[encoded data removed]",
      "text/plain": [
       "<Figure size 1440x360 with 1 Axes>"
      ]
     },
     "metadata": {},
     "output_type": "display_data"
    }
   ],
   "source": [
    "df_overweight = df_averages.groupby([\"Income Group\"]).median()['Overweight'].reset_index(name='Mean')\n",
    "df_stunting = df_averages.groupby([\"Income Group\"]).median()['Stunting'].reset_index(name='Mean')\n",
    "df_underweight = df_averages.groupby([\"Income Group\"]).median()['Underweight'].reset_index(name='Mean')\n",
    "df_wasting = df_averages.groupby([\"Income Group\"]).median()['Wasting'].reset_index(name='Mean')\n",
    "df_severewasting = df_averages.groupby([\"Income Group\"]).median()['Severe wasting'].reset_index(name='Mean')\n",
    "df_overweight['']= 'Overweight'\n",
    "df_stunting['']= 'Stunting'\n",
    "df_underweight[''] = 'Underweight'\n",
    "df_wasting[''] = 'Wasting'\n",
    "df_severewasting[''] = 'Severe wasting'\n",
    "\n",
    "result = pd.concat([df_overweight, df_stunting, df_underweight, df_severewasting, df_wasting])\n",
    "sns.set(style=\"darkgrid\")\n",
    "plt.figure(figsize=(20,5))\n",
    "ax = sns.barplot(x=\"Income Group\",y='Mean',data=result, hue = '', order = ['Low Income', 'Lower Middle Income', 'Upper Middle Income', 'High Income'])\n",
    "plt.show()"
   ]
  },
  {
   "cell_type": "code",
   "execution_count": null,
   "metadata": {},
   "outputs": [],
   "source": []
  }
 ],
 "metadata": {
  "colab": {
   "collapsed_sections": [],
   "name": "Malnutrition.ipynb",
   "provenance": []
  },
  "kernelspec": {
   "display_name": "Python 3",
   "language": "python",
   "name": "python3"
  },
  "language_info": {
   "codemirror_mode": {
    "name": "ipython",
    "version": 3
   },
   "file_extension": ".py",
   "mimetype": "text/x-python",
   "name": "python",
   "nbconvert_exporter": "python",
   "pygments_lexer": "ipython3",
   "version": "3.8.5"
  }
 },
 "nbformat": 4,
 "nbformat_minor": 1
}
